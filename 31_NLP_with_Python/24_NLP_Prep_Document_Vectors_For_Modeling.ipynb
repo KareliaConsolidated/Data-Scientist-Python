{
 "cells": [
  {
   "cell_type": "markdown",
   "metadata": {},
   "source": [
    "### Train Our Own Model"
   ]
  },
  {
   "cell_type": "code",
   "execution_count": 1,
   "metadata": {},
   "outputs": [
    {
     "name": "stderr",
     "output_type": "stream",
     "text": [
      "G:\\Anaconda3\\lib\\importlib\\_bootstrap.py:219: RuntimeWarning: numpy.ufunc size changed, may indicate binary incompatibility. Expected 192 from C header, got 216 from PyObject\n",
      "  return f(*args, **kwds)\n"
     ]
    }
   ],
   "source": [
    "import gensim\n",
    "import numpy as np\n",
    "import pandas as pd\n",
    "from sklearn.model_selection import train_test_split\n",
    "pd.set_option('display.max_colwidth', 100)\n",
    "\n",
    "messages = pd.read_csv('Data/spam.csv', encoding='latin-1')\n",
    "messages = messages.drop(['Unnamed: 2','Unnamed: 3','Unnamed: 4'], axis=1)\n",
    "messages.columns = ['label', 'text']\n",
    "\n",
    "messages['text_clean'] =  messages['text'].apply(lambda x: gensim.utils.simple_preprocess(x))\n",
    "\n",
    "X_train, X_test, y_train, y_test = train_test_split(messages['text_clean'], messages['label'], test_size=0.2)\n",
    "\n",
    "tagged_docs_tr = [gensim.models.doc2vec.TaggedDocument(v, [i]) for i, v in enumerate(X_train)]\n",
    "\n",
    "d2v_model = gensim.models.Doc2Vec(tagged_docs_tr, vector_size=100, window=2, min_count=2)"
   ]
  },
  {
   "cell_type": "code",
   "execution_count": 2,
   "metadata": {},
   "outputs": [
    {
     "data": {
      "text/plain": [
       "array([ 4.5672180e-03, -6.0211490e-03,  4.8573006e-06,  1.1688115e-02,\n",
       "       -4.1074222e-03,  1.7640906e-03,  1.3088775e-02, -3.2631566e-03,\n",
       "       -5.1234278e-04,  2.0602453e-04, -6.2479312e-03, -4.3735668e-04,\n",
       "        1.8911493e-03, -5.4341708e-03,  3.7041600e-03, -8.9280242e-03,\n",
       "       -3.4668252e-03, -1.7798549e-02,  3.5890192e-03,  1.6471959e-03,\n",
       "       -2.9744108e-03,  2.0632511e-03,  3.6755898e-03, -7.7443145e-04,\n",
       "        1.1583328e-02, -1.0874461e-02, -3.4069107e-04, -8.5212970e-03,\n",
       "        5.4211291e-03,  2.6295120e-03,  9.6071148e-03,  6.4154253e-03,\n",
       "        2.8621508e-03, -1.6854431e-03, -1.0375700e-02, -5.0396414e-04,\n",
       "       -3.2765807e-03, -4.2322176e-03, -1.4194174e-03,  2.3257963e-03,\n",
       "        7.8029223e-03, -9.6836353e-05,  1.3836495e-02,  1.7622121e-03,\n",
       "       -8.0700545e-03,  9.6646417e-03,  3.4410448e-03, -5.6544766e-03,\n",
       "       -2.1910209e-03,  5.2878744e-04,  4.8871678e-03,  2.8942456e-03,\n",
       "       -1.5952384e-02,  4.7802087e-03,  7.8854579e-03,  5.0975461e-03,\n",
       "        8.8577606e-03, -6.4867442e-03, -1.0409926e-02, -5.3892809e-04,\n",
       "       -9.7326841e-03,  7.5669899e-03,  3.4986760e-03,  1.4155078e-02,\n",
       "       -1.9065784e-02,  1.3417538e-02, -2.2485515e-03,  6.9464273e-03,\n",
       "       -7.7791992e-03, -6.3930773e-03,  3.2213989e-03,  6.9619794e-03,\n",
       "        1.3258242e-03, -3.2375054e-03,  2.9362505e-03, -1.0277785e-02,\n",
       "       -1.0501354e-02,  1.9400110e-03,  6.4733514e-04,  1.7187229e-03,\n",
       "        9.3793701e-03,  9.3154499e-04,  3.7026571e-03,  2.1389499e-03,\n",
       "       -5.7367496e-03,  6.5083364e-03,  4.6890085e-03, -4.5257765e-03,\n",
       "       -1.3931037e-02,  4.8136152e-03, -3.4746919e-03, -1.0363804e-04,\n",
       "        2.6274205e-03,  3.4730802e-03, -7.9431720e-03, -9.2688994e-03,\n",
       "       -7.9859514e-03, -1.0407793e-03,  4.1769003e-03, -4.0234085e-03],\n",
       "      dtype=float32)"
      ]
     },
     "execution_count": 2,
     "metadata": {},
     "output_type": "execute_result"
    }
   ],
   "source": [
    "d2v_model.infer_vector(['convert','words','to','vector'])"
   ]
  },
  {
   "cell_type": "code",
   "execution_count": 3,
   "metadata": {},
   "outputs": [],
   "source": [
    "# How do we prepare these vectors to be used in machine learning model?\n",
    "vectors = [[d2v_model.infer_vector(words)] for words in X_test]"
   ]
  },
  {
   "cell_type": "code",
   "execution_count": 4,
   "metadata": {},
   "outputs": [
    {
     "data": {
      "text/plain": [
       "[array([ 5.9884428e-03, -1.7805438e-03, -6.5921812e-04,  9.2867613e-03,\n",
       "         2.0521742e-03,  5.0540776e-03,  1.2747858e-02, -1.5800904e-03,\n",
       "        -9.2703692e-04,  2.5941175e-03, -5.0475332e-03, -2.2753247e-03,\n",
       "         6.1709187e-03, -5.0799204e-03,  9.8650565e-04, -8.1757084e-04,\n",
       "        -3.4624714e-04, -7.9386588e-03,  1.0874060e-03,  4.4174065e-04,\n",
       "         1.1290474e-03, -2.4841598e-03, -4.5078108e-03,  3.1455003e-03,\n",
       "         8.1563778e-03, -1.3684219e-02, -2.7300091e-03, -5.9177056e-03,\n",
       "        -7.5506029e-04, -3.5817586e-03,  4.2612609e-03, -1.3775015e-03,\n",
       "         4.6020271e-03, -3.0461813e-03, -4.3094703e-03,  1.8563058e-03,\n",
       "        -4.4429139e-03, -6.3033304e-03,  7.4404449e-04,  8.8320242e-04,\n",
       "         4.9261684e-03,  1.2583036e-03,  1.1010859e-02,  1.9838098e-03,\n",
       "        -3.5787395e-03,  5.7037938e-03, -1.6525517e-03,  8.5052328e-05,\n",
       "         2.9739123e-03,  2.1502599e-03, -2.9228369e-03,  3.9185607e-03,\n",
       "        -1.4718721e-02,  3.1548571e-03,  7.6711378e-03,  5.0686533e-03,\n",
       "         4.2260862e-03,  8.6133671e-04, -1.0706342e-02, -2.9930989e-03,\n",
       "        -5.6256872e-04, -1.3548126e-03,  2.1972177e-03,  5.4203914e-03,\n",
       "        -1.6512513e-02,  1.0254496e-02, -1.1183447e-03,  3.5265423e-03,\n",
       "         9.6088588e-05, -7.9927463e-03,  4.4140811e-03,  4.6703024e-03,\n",
       "         1.7366690e-03,  2.2717107e-03,  4.4744252e-03, -1.1183161e-02,\n",
       "        -9.2019449e-04,  5.1555474e-04, -1.5533889e-03, -2.2325800e-04,\n",
       "         1.1386806e-03,  2.5447221e-03,  7.6536147e-04,  8.3277551e-03,\n",
       "        -6.1227665e-03,  2.4670928e-03,  5.9630503e-03, -6.3893432e-03,\n",
       "        -9.9417474e-03,  1.7525932e-03,  1.0171725e-03, -5.6106681e-03,\n",
       "         2.0597060e-03,  3.4114504e-03, -6.3203597e-03, -1.1965113e-03,\n",
       "        -9.9235843e-04,  5.5453796e-03,  5.5837976e-03,  5.4747565e-04],\n",
       "       dtype=float32)]"
      ]
     },
     "execution_count": 4,
     "metadata": {},
     "output_type": "execute_result"
    }
   ],
   "source": [
    "vectors[0]"
   ]
  }
 ],
 "metadata": {
  "kernelspec": {
   "display_name": "Python 3",
   "language": "python",
   "name": "python3"
  },
  "language_info": {
   "codemirror_mode": {
    "name": "ipython",
    "version": 3
   },
   "file_extension": ".py",
   "mimetype": "text/x-python",
   "name": "python",
   "nbconvert_exporter": "python",
   "pygments_lexer": "ipython3",
   "version": "3.7.4"
  }
 },
 "nbformat": 4,
 "nbformat_minor": 4
}

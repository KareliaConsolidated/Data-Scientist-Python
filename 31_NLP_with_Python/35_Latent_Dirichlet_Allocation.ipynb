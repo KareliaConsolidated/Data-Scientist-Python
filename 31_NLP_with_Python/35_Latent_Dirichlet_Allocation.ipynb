{
 "cells": [
  {
   "cell_type": "markdown",
   "metadata": {},
   "source": [
    "### Latent Dirichlet Allocation\n",
    "LDA is used to classify text in a document to a particular topic. It builds a topic per document model and words per topic model, modeled as Dirichlet distributions.\n",
    "\n",
    "* Each document is modeled as a multinomial distribution of topics and each topic is modeled as a multinomial distribution of words.\n",
    "* LDA assumes that the every chunk of text we feed into it will contain words that are somehow related. Therefore choosing the right corpus of data is crucial.\n",
    "* It also assumes documents are produced from a mixture of topics. Those topics then generate words based on their probability distribution."
   ]
  },
  {
   "cell_type": "markdown",
   "metadata": {},
   "source": [
    "### Load the Dataset"
   ]
  },
  {
   "cell_type": "code",
   "execution_count": 1,
   "metadata": {},
   "outputs": [],
   "source": [
    "import pandas as pd\n",
    "\n",
    "data = pd.read_csv('Data/abcnews-date-text.csv', error_bad_lines=False)\n",
    "\n",
    "data_text = data[:300000][['headline_text']]\n",
    "data_text['index'] = data_text.index\n",
    "\n",
    "documents = data_text"
   ]
  },
  {
   "cell_type": "code",
   "execution_count": 2,
   "metadata": {},
   "outputs": [
    {
     "data": {
      "text/html": [
       "<div>\n",
       "<style scoped>\n",
       "    .dataframe tbody tr th:only-of-type {\n",
       "        vertical-align: middle;\n",
       "    }\n",
       "\n",
       "    .dataframe tbody tr th {\n",
       "        vertical-align: top;\n",
       "    }\n",
       "\n",
       "    .dataframe thead th {\n",
       "        text-align: right;\n",
       "    }\n",
       "</style>\n",
       "<table border=\"1\" class=\"dataframe\">\n",
       "  <thead>\n",
       "    <tr style=\"text-align: right;\">\n",
       "      <th></th>\n",
       "      <th>headline_text</th>\n",
       "      <th>index</th>\n",
       "    </tr>\n",
       "  </thead>\n",
       "  <tbody>\n",
       "    <tr>\n",
       "      <th>0</th>\n",
       "      <td>aba decides against community broadcasting lic...</td>\n",
       "      <td>0</td>\n",
       "    </tr>\n",
       "    <tr>\n",
       "      <th>1</th>\n",
       "      <td>act fire witnesses must be aware of defamation</td>\n",
       "      <td>1</td>\n",
       "    </tr>\n",
       "    <tr>\n",
       "      <th>2</th>\n",
       "      <td>a g calls for infrastructure protection summit</td>\n",
       "      <td>2</td>\n",
       "    </tr>\n",
       "    <tr>\n",
       "      <th>3</th>\n",
       "      <td>air nz staff in aust strike for pay rise</td>\n",
       "      <td>3</td>\n",
       "    </tr>\n",
       "    <tr>\n",
       "      <th>4</th>\n",
       "      <td>air nz strike to affect australian travellers</td>\n",
       "      <td>4</td>\n",
       "    </tr>\n",
       "  </tbody>\n",
       "</table>\n",
       "</div>"
      ],
      "text/plain": [
       "                                       headline_text  index\n",
       "0  aba decides against community broadcasting lic...      0\n",
       "1     act fire witnesses must be aware of defamation      1\n",
       "2     a g calls for infrastructure protection summit      2\n",
       "3           air nz staff in aust strike for pay rise      3\n",
       "4      air nz strike to affect australian travellers      4"
      ]
     },
     "execution_count": 2,
     "metadata": {},
     "output_type": "execute_result"
    }
   ],
   "source": [
    "documents.head()"
   ]
  },
  {
   "cell_type": "code",
   "execution_count": 3,
   "metadata": {},
   "outputs": [
    {
     "name": "stdout",
     "output_type": "stream",
     "text": [
      "300000\n"
     ]
    }
   ],
   "source": [
    "print(len(documents))"
   ]
  },
  {
   "cell_type": "markdown",
   "metadata": {},
   "source": [
    "### Data Preprocessing"
   ]
  },
  {
   "cell_type": "code",
   "execution_count": 5,
   "metadata": {},
   "outputs": [],
   "source": [
    "import gensim\n",
    "from gensim.utils import simple_preprocess\n",
    "from gensim.parsing.preprocessing import STOPWORDS\n",
    "from nltk.stem import WordNetLemmatizer, SnowballStemmer\n",
    "from nltk.stem.porter import *\n",
    "import numpy as np\n",
    "np.random.seed(400)"
   ]
  },
  {
   "cell_type": "code",
   "execution_count": 6,
   "metadata": {},
   "outputs": [
    {
     "name": "stderr",
     "output_type": "stream",
     "text": [
      "[nltk_data] Downloading package wordnet to\n",
      "[nltk_data]     C:\\Users\\Anubhav\\AppData\\Roaming\\nltk_data...\n",
      "[nltk_data]   Unzipping corpora\\wordnet.zip.\n"
     ]
    },
    {
     "data": {
      "text/plain": [
       "True"
      ]
     },
     "execution_count": 6,
     "metadata": {},
     "output_type": "execute_result"
    }
   ],
   "source": [
    "import nltk\n",
    "nltk.download('wordnet')"
   ]
  },
  {
   "cell_type": "markdown",
   "metadata": {},
   "source": [
    "#### Lemmatizer Example"
   ]
  },
  {
   "cell_type": "code",
   "execution_count": 7,
   "metadata": {},
   "outputs": [
    {
     "name": "stdout",
     "output_type": "stream",
     "text": [
      "go\n"
     ]
    }
   ],
   "source": [
    "print(WordNetLemmatizer().lemmatize('went', pos='v')) # Past Tense to Present Tense"
   ]
  },
  {
   "cell_type": "markdown",
   "metadata": {},
   "source": [
    "#### Stemmer Example"
   ]
  },
  {
   "cell_type": "code",
   "execution_count": 9,
   "metadata": {},
   "outputs": [
    {
     "data": {
      "text/html": [
       "<div>\n",
       "<style scoped>\n",
       "    .dataframe tbody tr th:only-of-type {\n",
       "        vertical-align: middle;\n",
       "    }\n",
       "\n",
       "    .dataframe tbody tr th {\n",
       "        vertical-align: top;\n",
       "    }\n",
       "\n",
       "    .dataframe thead th {\n",
       "        text-align: right;\n",
       "    }\n",
       "</style>\n",
       "<table border=\"1\" class=\"dataframe\">\n",
       "  <thead>\n",
       "    <tr style=\"text-align: right;\">\n",
       "      <th></th>\n",
       "      <th>original word</th>\n",
       "      <th>stemmed</th>\n",
       "    </tr>\n",
       "  </thead>\n",
       "  <tbody>\n",
       "    <tr>\n",
       "      <th>0</th>\n",
       "      <td>caresses</td>\n",
       "      <td>caress</td>\n",
       "    </tr>\n",
       "    <tr>\n",
       "      <th>1</th>\n",
       "      <td>flies</td>\n",
       "      <td>fli</td>\n",
       "    </tr>\n",
       "    <tr>\n",
       "      <th>2</th>\n",
       "      <td>dies</td>\n",
       "      <td>die</td>\n",
       "    </tr>\n",
       "    <tr>\n",
       "      <th>3</th>\n",
       "      <td>mules</td>\n",
       "      <td>mule</td>\n",
       "    </tr>\n",
       "    <tr>\n",
       "      <th>4</th>\n",
       "      <td>denied</td>\n",
       "      <td>deni</td>\n",
       "    </tr>\n",
       "    <tr>\n",
       "      <th>5</th>\n",
       "      <td>died</td>\n",
       "      <td>die</td>\n",
       "    </tr>\n",
       "    <tr>\n",
       "      <th>6</th>\n",
       "      <td>agreed</td>\n",
       "      <td>agre</td>\n",
       "    </tr>\n",
       "    <tr>\n",
       "      <th>7</th>\n",
       "      <td>owned</td>\n",
       "      <td>own</td>\n",
       "    </tr>\n",
       "    <tr>\n",
       "      <th>8</th>\n",
       "      <td>humbled</td>\n",
       "      <td>humbl</td>\n",
       "    </tr>\n",
       "    <tr>\n",
       "      <th>9</th>\n",
       "      <td>sized</td>\n",
       "      <td>size</td>\n",
       "    </tr>\n",
       "    <tr>\n",
       "      <th>10</th>\n",
       "      <td>meeting</td>\n",
       "      <td>meet</td>\n",
       "    </tr>\n",
       "    <tr>\n",
       "      <th>11</th>\n",
       "      <td>stating</td>\n",
       "      <td>state</td>\n",
       "    </tr>\n",
       "    <tr>\n",
       "      <th>12</th>\n",
       "      <td>siezing</td>\n",
       "      <td>siez</td>\n",
       "    </tr>\n",
       "    <tr>\n",
       "      <th>13</th>\n",
       "      <td>itemization</td>\n",
       "      <td>item</td>\n",
       "    </tr>\n",
       "    <tr>\n",
       "      <th>14</th>\n",
       "      <td>sensational</td>\n",
       "      <td>sensat</td>\n",
       "    </tr>\n",
       "    <tr>\n",
       "      <th>15</th>\n",
       "      <td>traditional</td>\n",
       "      <td>tradit</td>\n",
       "    </tr>\n",
       "    <tr>\n",
       "      <th>16</th>\n",
       "      <td>reference</td>\n",
       "      <td>refer</td>\n",
       "    </tr>\n",
       "    <tr>\n",
       "      <th>17</th>\n",
       "      <td>colonizer</td>\n",
       "      <td>colon</td>\n",
       "    </tr>\n",
       "    <tr>\n",
       "      <th>18</th>\n",
       "      <td>plotted</td>\n",
       "      <td>plot</td>\n",
       "    </tr>\n",
       "  </tbody>\n",
       "</table>\n",
       "</div>"
      ],
      "text/plain": [
       "   original word stemmed\n",
       "0       caresses  caress\n",
       "1          flies     fli\n",
       "2           dies     die\n",
       "3          mules    mule\n",
       "4         denied    deni\n",
       "5           died     die\n",
       "6         agreed    agre\n",
       "7          owned     own\n",
       "8        humbled   humbl\n",
       "9          sized    size\n",
       "10       meeting    meet\n",
       "11       stating   state\n",
       "12       siezing    siez\n",
       "13   itemization    item\n",
       "14   sensational  sensat\n",
       "15   traditional  tradit\n",
       "16     reference   refer\n",
       "17     colonizer   colon\n",
       "18       plotted    plot"
      ]
     },
     "execution_count": 9,
     "metadata": {},
     "output_type": "execute_result"
    }
   ],
   "source": [
    "stemmer = SnowballStemmer(\"english\")\n",
    "original_words = ['caresses', 'flies', 'dies', 'mules', 'denied','died', 'agreed', 'owned', \n",
    "           'humbled', 'sized','meeting', 'stating', 'siezing', 'itemization','sensational', \n",
    "           'traditional', 'reference', 'colonizer','plotted']\n",
    "singles = [stemmer.stem(plural) for plural in original_words]\n",
    "\n",
    "pd.DataFrame(data={'original word':original_words, 'stemmed':singles })"
   ]
  },
  {
   "cell_type": "code",
   "execution_count": 10,
   "metadata": {},
   "outputs": [],
   "source": [
    "def lemmatize_stemming(text):\n",
    "    return stemmer.stem(WordNetLemmatizer().lemmatize(text, pos='v'))\n",
    "\n",
    "# Tokenize and Lemmatize\n",
    "def preprocess(text):\n",
    "    result = []\n",
    "    for token in simple_preprocess(text):\n",
    "        if token not  in STOPWORDS and len(token) > 3:\n",
    "            result.append(lemmatize_stemming(token))\n",
    "    return result"
   ]
  },
  {
   "cell_type": "code",
   "execution_count": 15,
   "metadata": {},
   "outputs": [
    {
     "name": "stdout",
     "output_type": "stream",
     "text": [
      "Original Document: \n",
      "['rain', 'helps', 'dampen', 'bushfires']\n",
      "\n",
      "\n",
      " Tokenized and Lemmatized Document: \n",
      "['rain', 'help', 'dampen', 'bushfir']\n"
     ]
    }
   ],
   "source": [
    "'''\n",
    "Preview a document after preprocessing\n",
    "'''\n",
    "document_num = 4310\n",
    "doc_sample = documents[documents['index'] == document_num].values[0][0]\n",
    "\n",
    "print('Original Document: ')\n",
    "words = []\n",
    "for word in doc_sample.split(' '):\n",
    "    words.append(word)\n",
    "print(words)    \n",
    "print(\"\\n\\n Tokenized and Lemmatized Document: \")    \n",
    "print(preprocess(doc_sample))"
   ]
  },
  {
   "cell_type": "code",
   "execution_count": 16,
   "metadata": {},
   "outputs": [],
   "source": [
    "### Preprocess all the headlines, saving the list of results as 'processed_docs'\n",
    "processed_docs = documents['headline_text'].map(preprocess)"
   ]
  },
  {
   "cell_type": "code",
   "execution_count": 17,
   "metadata": {},
   "outputs": [
    {
     "data": {
      "text/plain": [
       "0            [decid, communiti, broadcast, licenc]\n",
       "1                               [wit, awar, defam]\n",
       "2           [call, infrastructur, protect, summit]\n",
       "3                      [staff, aust, strike, rise]\n",
       "4             [strike, affect, australian, travel]\n",
       "5               [ambiti, olsson, win, tripl, jump]\n",
       "6           [antic, delight, record, break, barca]\n",
       "7    [aussi, qualifi, stosur, wast, memphi, match]\n",
       "8            [aust, address, secur, council, iraq]\n",
       "9                         [australia, lock, timet]\n",
       "Name: headline_text, dtype: object"
      ]
     },
     "execution_count": 17,
     "metadata": {},
     "output_type": "execute_result"
    }
   ],
   "source": [
    "processed_docs[:10]"
   ]
  },
  {
   "cell_type": "markdown",
   "metadata": {},
   "source": [
    "### Bag of Words on the Dataset"
   ]
  },
  {
   "cell_type": "code",
   "execution_count": 18,
   "metadata": {},
   "outputs": [],
   "source": [
    "dictionary = gensim.corpora.Dictionary(processed_docs)"
   ]
  },
  {
   "cell_type": "code",
   "execution_count": 20,
   "metadata": {},
   "outputs": [
    {
     "name": "stdout",
     "output_type": "stream",
     "text": [
      "0 broadcast\n",
      "1 communiti\n",
      "2 decid\n",
      "3 licenc\n",
      "4 awar\n",
      "5 defam\n",
      "6 wit\n",
      "7 call\n",
      "8 infrastructur\n",
      "9 protect\n",
      "10 summit\n"
     ]
    }
   ],
   "source": [
    "count = 0\n",
    "for k, v in dictionary.iteritems():\n",
    "    print(k, v)\n",
    "    count += 1\n",
    "    if count > 10:\n",
    "        break"
   ]
  },
  {
   "cell_type": "code",
   "execution_count": 21,
   "metadata": {},
   "outputs": [],
   "source": [
    "'''Remove very rare and very common words\n",
    "--words appearing less than 15 times\n",
    "--words appearing in more than 10% of all documents\n",
    "'''\n",
    "\n",
    "dictionary.filter_extremes(no_below=15, no_above=0.1, keep_n=100000)"
   ]
  },
  {
   "cell_type": "markdown",
   "metadata": {},
   "source": [
    "#### Gensim doc2bow\n",
    "* Convert document (a list of words) into the bag-of-words format = list of (token_id, token_count) 2-tuples. Each word is assumed to be a tokenized and normalized string (either unicode or utf8-encoded). No further preprocessing is done on the words in document; apply tokenization, stemming etc. before calling this method."
   ]
  },
  {
   "cell_type": "code",
   "execution_count": 22,
   "metadata": {},
   "outputs": [],
   "source": [
    "'''\n",
    "Create the Bag-of-words model for each document i.e for each document we create a dictionary reporting how many\n",
    "words and how many times those words appear. Save this to 'bow_corpus'\n",
    "'''\n",
    "bow_corpus = [dictionary.doc2bow(doc) for doc in processed_docs]"
   ]
  },
  {
   "cell_type": "code",
   "execution_count": 23,
   "metadata": {},
   "outputs": [
    {
     "data": {
      "text/plain": [
       "[(71, 1), (107, 1), (462, 1), (3530, 1)]"
      ]
     },
     "execution_count": 23,
     "metadata": {},
     "output_type": "execute_result"
    }
   ],
   "source": [
    "bow_corpus[document_num]"
   ]
  },
  {
   "cell_type": "code",
   "execution_count": 24,
   "metadata": {},
   "outputs": [
    {
     "name": "stdout",
     "output_type": "stream",
     "text": [
      "Word 71 (\"bushfir\") appears 1 time.\n",
      "Word 107 (\"help\") appears 1 time.\n",
      "Word 462 (\"rain\") appears 1 time.\n",
      "Word 3530 (\"dampen\") appears 1 time.\n"
     ]
    }
   ],
   "source": [
    "'''\n",
    "Preview BOW for our sample preprocessed document\n",
    "'''\n",
    "# Here document_num is document number 4310 which we have checked in Step 2\n",
    "bow_doc_4310 = bow_corpus[document_num]\n",
    "\n",
    "for i in range(len(bow_doc_4310)):\n",
    "    print(\"Word {} (\\\"{}\\\") appears {} time.\".format(bow_doc_4310[i][0], \n",
    "                                                     dictionary[bow_doc_4310[i][0]], \n",
    "                                                     bow_doc_4310[i][1]))"
   ]
  },
  {
   "cell_type": "markdown",
   "metadata": {},
   "source": [
    "### TF-IDF on our document set\n",
    "While performing TF-IDF on the corpus is not necessary for LDA implemention using the gensim model, it is recemmended. TF-IDF expects a bag-of-words (integer values) training corpus during initialization. During transformation, it will take a vector and return another vector of the same dimensionality.\n",
    "\n",
    "Please note: The author of Gensim dictates the standard procedure for LDA to be using the Bag of Words model.\n",
    "\n",
    "#### TF-IDF stands for \"Term Frequency, Inverse Document Frequency\".\n",
    "\n",
    "* It is a way to score the importance of words (or \"terms\") in a document based on how frequently they appear across multiple documents.\n",
    "* If a word appears frequently in a document, it's important. Give the word a high score. But if a word appears in many documents, it's not a unique identifier. Give the word a low score.\n",
    "* Therefore, common words like \"the\" and \"for\", which appear in many documents, will be scaled down. Words that appear frequently in a single document will be scaled up.\n",
    "\n",
    "In other words:\n",
    "\n",
    "* TF(w) = (Number of times term w appears in a document) / (Total number of terms in the document).\n",
    "* IDF(w) = log_e(Total number of documents / Number of documents with term w in it).\n",
    "\n",
    "#### For example\n",
    "\n",
    "* Consider a document containing 100 words wherein the word 'tiger' appears 3 times.\n",
    "* The term frequency (i.e., tf) for 'tiger' is then:\n",
    "    * TF = (3 / 100) = 0.03.\n",
    "* Now, assume we have 10 million documents and the word 'tiger' appears in 1000 of these. Then, the inverse document frequency (i.e., idf) is calculated as:\n",
    "    * IDF = log(10,000,000 / 1,000) = 4.\n",
    "* Thus, the Tf-idf weight is the product of these quantities:\n",
    "    * TF-IDF = 0.03 * 4 = 0.12."
   ]
  },
  {
   "cell_type": "code",
   "execution_count": 27,
   "metadata": {},
   "outputs": [],
   "source": [
    "from gensim import corpora, models\n",
    "\n",
    "tfidf = models.TfidfModel(bow_corpus)"
   ]
  },
  {
   "cell_type": "code",
   "execution_count": 29,
   "metadata": {},
   "outputs": [],
   "source": [
    "'''\n",
    "Apply transformation to the entire corpus and call it 'corpus_tfidf'\n",
    "'''\n",
    "\n",
    "corpus_tfidf = tfidf[bow_corpus]"
   ]
  },
  {
   "cell_type": "code",
   "execution_count": 30,
   "metadata": {},
   "outputs": [
    {
     "name": "stdout",
     "output_type": "stream",
     "text": [
      "[(0, 0.5959813347777092),\n",
      " (1, 0.39204529549491984),\n",
      " (2, 0.48531419274988147),\n",
      " (3, 0.5055461098578569)]\n"
     ]
    }
   ],
   "source": [
    "'''\n",
    "Preview TF-IDF scores for our first document --> --> (token_id, tfidf score)\n",
    "'''\n",
    "from pprint import pprint\n",
    "for doc in corpus_tfidf:\n",
    "    pprint(doc)\n",
    "    break"
   ]
  },
  {
   "cell_type": "markdown",
   "metadata": {},
   "source": [
    "### Running LDA using Bag of Words\n",
    "We are going for 10 topics in the document corpus.\n",
    "\n",
    "#### We will be running LDA using all CPU cores to parallelize and speed up model training.\n",
    "\n",
    "Some of the parameters we will be tweaking are:\n",
    "\n",
    "* `num_topics` is the number of requested latent topics to be extracted from the training corpus.\n",
    "* `id2word` is a mapping from word ids (integers) to words (strings). It is used to determine the vocabulary size, as well as for debugging and topic printing.\n",
    "* `workers` is the number of extra processes to use for parallelization. Uses all available cores by default.\n",
    "* `alpha` and `eta` are hyperparameters that affect sparsity of the document-topic (theta) and topic-word (lambda) distributions. We will let these be the default values for now(default value is 1/num_topics)\n",
    "\n",
    "    * Alpha is the per document topic distribution.\n",
    "\n",
    "        * High alpha: Every document has a mixture of all topics(documents appear similar to each other).\n",
    "        * Low alpha: Every document has a mixture of very few topics\n",
    "    * Eta is the per topic word distribution.\n",
    "\n",
    "        * High eta: Each topic has a mixture of most words(topics appear similar to each other).\n",
    "        * Low eta: Each topic has a mixture of few words.\n",
    "* `passes` is the number of training passes through the corpus. For example, if the training corpus has 50,000 documents, chunksize is 10,000, passes is 2, then online training is done in 10 updates:\n",
    "\n",
    "    * #1 documents 0-9,999\n",
    "    * #2 documents 10,000-19,999\n",
    "    * #3 documents 20,000-29,999\n",
    "    * #4 documents 30,000-39,999\n",
    "    * #5 documents 40,000-49,999\n",
    "    * #6 documents 0-9,999\n",
    "    * #7 documents 10,000-19,999\n",
    "    * #8 documents 20,000-29,999\n",
    "    * #9 documents 30,000-39,999\n",
    "    * #10 documents 40,000-49,999"
   ]
  },
  {
   "cell_type": "code",
   "execution_count": 32,
   "metadata": {},
   "outputs": [],
   "source": [
    "# Train LDA Model\n",
    "lda_model = gensim.models.LdaMulticore(bow_corpus, num_topics=10, id2word=dictionary, passes=2, workers=2)"
   ]
  },
  {
   "cell_type": "code",
   "execution_count": 33,
   "metadata": {},
   "outputs": [
    {
     "name": "stdout",
     "output_type": "stream",
     "text": [
      "Topic: 0 \n",
      "Words: 0.024*\"open\" + 0.021*\"test\" + 0.018*\"world\" + 0.017*\"win\" + 0.014*\"lead\" + 0.014*\"south\" + 0.012*\"take\" + 0.012*\"timor\" + 0.011*\"strike\" + 0.010*\"east\"\n",
      "\n",
      "\n",
      "Topic: 1 \n",
      "Words: 0.034*\"report\" + 0.030*\"help\" + 0.017*\"deal\" + 0.015*\"urg\" + 0.015*\"blaze\" + 0.015*\"inquiri\" + 0.012*\"close\" + 0.012*\"firefight\" + 0.012*\"bushfir\" + 0.011*\"resid\"\n",
      "\n",
      "\n",
      "Topic: 2 \n",
      "Words: 0.038*\"crash\" + 0.022*\"closer\" + 0.017*\"die\" + 0.016*\"road\" + 0.016*\"coast\" + 0.014*\"train\" + 0.012*\"kill\" + 0.012*\"gold\" + 0.012*\"north\" + 0.011*\"hick\"\n",
      "\n",
      "\n",
      "Topic: 3 \n",
      "Words: 0.041*\"plan\" + 0.034*\"council\" + 0.031*\"govt\" + 0.030*\"water\" + 0.018*\"urg\" + 0.016*\"group\" + 0.013*\"reject\" + 0.013*\"fund\" + 0.012*\"concern\" + 0.012*\"consid\"\n",
      "\n",
      "\n",
      "Topic: 4 \n",
      "Words: 0.024*\"hospit\" + 0.022*\"labor\" + 0.019*\"defend\" + 0.019*\"elect\" + 0.016*\"protest\" + 0.015*\"minist\" + 0.015*\"power\" + 0.014*\"work\" + 0.014*\"govt\" + 0.013*\"begin\"\n",
      "\n",
      "\n",
      "Topic: 5 \n",
      "Words: 0.045*\"warn\" + 0.020*\"fight\" + 0.017*\"nuclear\" + 0.017*\"england\" + 0.016*\"year\" + 0.014*\"action\" + 0.014*\"threat\" + 0.011*\"iran\" + 0.010*\"say\" + 0.009*\"program\"\n",
      "\n",
      "\n",
      "Topic: 6 \n",
      "Words: 0.019*\"school\" + 0.018*\"drought\" + 0.018*\"farmer\" + 0.014*\"price\" + 0.014*\"fund\" + 0.014*\"market\" + 0.013*\"rise\" + 0.012*\"rain\" + 0.012*\"feder\" + 0.012*\"boost\"\n",
      "\n",
      "\n",
      "Topic: 7 \n",
      "Words: 0.028*\"iraq\" + 0.018*\"talk\" + 0.016*\"australia\" + 0.015*\"troop\" + 0.012*\"storm\" + 0.012*\"leader\" + 0.011*\"hold\" + 0.010*\"bush\" + 0.010*\"victori\" + 0.010*\"tiger\"\n",
      "\n",
      "\n",
      "Topic: 8 \n",
      "Words: 0.073*\"polic\" + 0.031*\"charg\" + 0.027*\"court\" + 0.023*\"face\" + 0.020*\"kill\" + 0.020*\"investig\" + 0.019*\"attack\" + 0.019*\"miss\" + 0.018*\"jail\" + 0.018*\"death\"\n",
      "\n",
      "\n",
      "Topic: 9 \n",
      "Words: 0.034*\"claim\" + 0.025*\"opposit\" + 0.021*\"deni\" + 0.019*\"say\" + 0.019*\"govt\" + 0.018*\"break\" + 0.014*\"chang\" + 0.013*\"rule\" + 0.013*\"wont\" + 0.011*\"rudd\"\n",
      "\n",
      "\n"
     ]
    }
   ],
   "source": [
    "'''\n",
    "For each topic, we will explore the words occuring in that topic and its relative weight\n",
    "'''\n",
    "for idx, topic in lda_model.print_topics(-1):\n",
    "    print(\"Topic: {} \\nWords: {}\".format(idx, topic))\n",
    "    print(\"\\n\")"
   ]
  },
  {
   "cell_type": "code",
   "execution_count": 34,
   "metadata": {},
   "outputs": [],
   "source": [
    "'''\n",
    "Define lda model using corpus_tfidf\n",
    "'''\n",
    "lda_model_tfidf = gensim.models.LdaMulticore(corpus_tfidf, \n",
    "                                             num_topics=10, \n",
    "                                             id2word = dictionary, \n",
    "                                             passes = 2, \n",
    "                                             workers=4)"
   ]
  },
  {
   "cell_type": "code",
   "execution_count": 35,
   "metadata": {},
   "outputs": [
    {
     "name": "stdout",
     "output_type": "stream",
     "text": [
      "Topic: 0 Word: 0.006*\"australia\" + 0.006*\"liber\" + 0.006*\"export\" + 0.006*\"england\" + 0.006*\"takeov\" + 0.005*\"grower\" + 0.005*\"contract\" + 0.005*\"resign\" + 0.005*\"aussi\" + 0.005*\"lake\"\n",
      "\n",
      "\n",
      "Topic: 1 Word: 0.014*\"court\" + 0.014*\"murder\" + 0.012*\"charg\" + 0.010*\"polic\" + 0.009*\"jail\" + 0.009*\"face\" + 0.009*\"child\" + 0.007*\"sentenc\" + 0.007*\"accus\" + 0.006*\"appeal\"\n",
      "\n",
      "\n",
      "Topic: 2 Word: 0.019*\"kill\" + 0.011*\"bomb\" + 0.010*\"crash\" + 0.009*\"accid\" + 0.008*\"polic\" + 0.008*\"attack\" + 0.008*\"fatal\" + 0.008*\"iraq\" + 0.007*\"blast\" + 0.007*\"soldier\"\n",
      "\n",
      "\n",
      "Topic: 3 Word: 0.030*\"closer\" + 0.006*\"climat\" + 0.006*\"final\" + 0.004*\"open\" + 0.004*\"comment\" + 0.004*\"hawk\" + 0.004*\"violenc\" + 0.004*\"croc\" + 0.004*\"socceroo\" + 0.004*\"plan\"\n",
      "\n",
      "\n",
      "Topic: 4 Word: 0.012*\"water\" + 0.010*\"price\" + 0.009*\"rise\" + 0.006*\"council\" + 0.006*\"rate\" + 0.006*\"restrict\" + 0.006*\"plan\" + 0.005*\"doubt\" + 0.005*\"govt\" + 0.005*\"suppli\"\n",
      "\n",
      "\n",
      "Topic: 5 Word: 0.010*\"govt\" + 0.008*\"nuclear\" + 0.008*\"plan\" + 0.007*\"labor\" + 0.007*\"urg\" + 0.007*\"hick\" + 0.006*\"howard\" + 0.006*\"senat\" + 0.006*\"iran\" + 0.005*\"group\"\n",
      "\n",
      "\n",
      "Topic: 6 Word: 0.008*\"bird\" + 0.007*\"polic\" + 0.006*\"plane\" + 0.005*\"charg\" + 0.005*\"refus\" + 0.005*\"pair\" + 0.005*\"suicid\" + 0.005*\"light\" + 0.005*\"qanta\" + 0.005*\"flight\"\n",
      "\n",
      "\n",
      "Topic: 7 Word: 0.013*\"search\" + 0.012*\"coast\" + 0.010*\"miss\" + 0.010*\"gold\" + 0.008*\"north\" + 0.008*\"break\" + 0.007*\"west\" + 0.007*\"rudd\" + 0.007*\"guilti\" + 0.007*\"plead\"\n",
      "\n",
      "\n",
      "Topic: 8 Word: 0.008*\"solomon\" + 0.007*\"troop\" + 0.006*\"chase\" + 0.006*\"beazley\" + 0.006*\"news\" + 0.006*\"energi\" + 0.005*\"whale\" + 0.005*\"resum\" + 0.005*\"polic\" + 0.005*\"escap\"\n",
      "\n",
      "\n",
      "Topic: 9 Word: 0.011*\"polic\" + 0.010*\"fund\" + 0.010*\"govt\" + 0.008*\"blaze\" + 0.008*\"hospit\" + 0.007*\"road\" + 0.007*\"firefight\" + 0.007*\"plan\" + 0.006*\"stab\" + 0.006*\"council\"\n",
      "\n",
      "\n"
     ]
    }
   ],
   "source": [
    "'''\n",
    "For each topic, we will explore the words occuring in that topic and its relative weight\n",
    "'''\n",
    "for idx, topic in lda_model_tfidf.print_topics(-1):\n",
    "    print(\"Topic: {} Word: {}\".format(idx, topic))\n",
    "    print(\"\\n\")"
   ]
  },
  {
   "cell_type": "markdown",
   "metadata": {},
   "source": [
    "### Performance evaluation by classifying sample document using LDA Bag of Words model"
   ]
  },
  {
   "cell_type": "code",
   "execution_count": 36,
   "metadata": {},
   "outputs": [
    {
     "data": {
      "text/plain": [
       "['rain', 'help', 'dampen', 'bushfir']"
      ]
     },
     "execution_count": 36,
     "metadata": {},
     "output_type": "execute_result"
    }
   ],
   "source": [
    "'''\n",
    "Text of sample document 4310\n",
    "'''\n",
    "processed_docs[4310]"
   ]
  },
  {
   "cell_type": "code",
   "execution_count": 37,
   "metadata": {},
   "outputs": [
    {
     "name": "stdout",
     "output_type": "stream",
     "text": [
      "\n",
      "Score: 0.6199511885643005\t \n",
      "Topic: 0.034*\"report\" + 0.030*\"help\" + 0.017*\"deal\" + 0.015*\"urg\" + 0.015*\"blaze\" + 0.015*\"inquiri\" + 0.012*\"close\" + 0.012*\"firefight\" + 0.012*\"bushfir\" + 0.011*\"resid\"\n",
      "\n",
      "Score: 0.2200343757867813\t \n",
      "Topic: 0.019*\"school\" + 0.018*\"drought\" + 0.018*\"farmer\" + 0.014*\"price\" + 0.014*\"fund\" + 0.014*\"market\" + 0.013*\"rise\" + 0.012*\"rain\" + 0.012*\"feder\" + 0.012*\"boost\"\n",
      "\n",
      "Score: 0.020001808181405067\t \n",
      "Topic: 0.024*\"open\" + 0.021*\"test\" + 0.018*\"world\" + 0.017*\"win\" + 0.014*\"lead\" + 0.014*\"south\" + 0.012*\"take\" + 0.012*\"timor\" + 0.011*\"strike\" + 0.010*\"east\"\n",
      "\n",
      "Score: 0.020001808181405067\t \n",
      "Topic: 0.038*\"crash\" + 0.022*\"closer\" + 0.017*\"die\" + 0.016*\"road\" + 0.016*\"coast\" + 0.014*\"train\" + 0.012*\"kill\" + 0.012*\"gold\" + 0.012*\"north\" + 0.011*\"hick\"\n",
      "\n",
      "Score: 0.020001808181405067\t \n",
      "Topic: 0.041*\"plan\" + 0.034*\"council\" + 0.031*\"govt\" + 0.030*\"water\" + 0.018*\"urg\" + 0.016*\"group\" + 0.013*\"reject\" + 0.013*\"fund\" + 0.012*\"concern\" + 0.012*\"consid\"\n",
      "\n",
      "Score: 0.020001808181405067\t \n",
      "Topic: 0.024*\"hospit\" + 0.022*\"labor\" + 0.019*\"defend\" + 0.019*\"elect\" + 0.016*\"protest\" + 0.015*\"minist\" + 0.015*\"power\" + 0.014*\"work\" + 0.014*\"govt\" + 0.013*\"begin\"\n",
      "\n",
      "Score: 0.020001808181405067\t \n",
      "Topic: 0.045*\"warn\" + 0.020*\"fight\" + 0.017*\"nuclear\" + 0.017*\"england\" + 0.016*\"year\" + 0.014*\"action\" + 0.014*\"threat\" + 0.011*\"iran\" + 0.010*\"say\" + 0.009*\"program\"\n",
      "\n",
      "Score: 0.020001808181405067\t \n",
      "Topic: 0.028*\"iraq\" + 0.018*\"talk\" + 0.016*\"australia\" + 0.015*\"troop\" + 0.012*\"storm\" + 0.012*\"leader\" + 0.011*\"hold\" + 0.010*\"bush\" + 0.010*\"victori\" + 0.010*\"tiger\"\n",
      "\n",
      "Score: 0.020001808181405067\t \n",
      "Topic: 0.073*\"polic\" + 0.031*\"charg\" + 0.027*\"court\" + 0.023*\"face\" + 0.020*\"kill\" + 0.020*\"investig\" + 0.019*\"attack\" + 0.019*\"miss\" + 0.018*\"jail\" + 0.018*\"death\"\n",
      "\n",
      "Score: 0.020001808181405067\t \n",
      "Topic: 0.034*\"claim\" + 0.025*\"opposit\" + 0.021*\"deni\" + 0.019*\"say\" + 0.019*\"govt\" + 0.018*\"break\" + 0.014*\"chang\" + 0.013*\"rule\" + 0.013*\"wont\" + 0.011*\"rudd\"\n"
     ]
    }
   ],
   "source": [
    "'''\n",
    "Check which topic our test document belongs to using the LDA Bag of Words model.\n",
    "'''\n",
    "\n",
    "# Our test document is document number 4310\n",
    "for index, score in sorted(lda_model[bow_corpus[document_num]], key=lambda tup: -1*tup[1]):\n",
    "    print(\"\\nScore: {}\\t \\nTopic: {}\".format(score, lda_model.print_topic(index, 10)))"
   ]
  },
  {
   "cell_type": "code",
   "execution_count": 38,
   "metadata": {},
   "outputs": [
    {
     "name": "stdout",
     "output_type": "stream",
     "text": [
      "\n",
      "Score: 0.6218549013137817\t \n",
      "Topic: 0.014*\"court\" + 0.014*\"murder\" + 0.012*\"charg\" + 0.010*\"polic\" + 0.009*\"jail\" + 0.009*\"face\" + 0.009*\"child\" + 0.007*\"sentenc\" + 0.007*\"accus\" + 0.006*\"appeal\"\n",
      "\n",
      "Score: 0.21810561418533325\t \n",
      "Topic: 0.013*\"search\" + 0.012*\"coast\" + 0.010*\"miss\" + 0.010*\"gold\" + 0.008*\"north\" + 0.008*\"break\" + 0.007*\"west\" + 0.007*\"rudd\" + 0.007*\"guilti\" + 0.007*\"plead\"\n",
      "\n",
      "Score: 0.020008515566587448\t \n",
      "Topic: 0.012*\"water\" + 0.010*\"price\" + 0.009*\"rise\" + 0.006*\"council\" + 0.006*\"rate\" + 0.006*\"restrict\" + 0.006*\"plan\" + 0.005*\"doubt\" + 0.005*\"govt\" + 0.005*\"suppli\"\n",
      "\n",
      "Score: 0.02000657096505165\t \n",
      "Topic: 0.011*\"polic\" + 0.010*\"fund\" + 0.010*\"govt\" + 0.008*\"blaze\" + 0.008*\"hospit\" + 0.007*\"road\" + 0.007*\"firefight\" + 0.007*\"plan\" + 0.006*\"stab\" + 0.006*\"council\"\n",
      "\n",
      "Score: 0.02000456675887108\t \n",
      "Topic: 0.006*\"australia\" + 0.006*\"liber\" + 0.006*\"export\" + 0.006*\"england\" + 0.006*\"takeov\" + 0.005*\"grower\" + 0.005*\"contract\" + 0.005*\"resign\" + 0.005*\"aussi\" + 0.005*\"lake\"\n",
      "\n",
      "Score: 0.020004432648420334\t \n",
      "Topic: 0.019*\"kill\" + 0.011*\"bomb\" + 0.010*\"crash\" + 0.009*\"accid\" + 0.008*\"polic\" + 0.008*\"attack\" + 0.008*\"fatal\" + 0.008*\"iraq\" + 0.007*\"blast\" + 0.007*\"soldier\"\n",
      "\n",
      "Score: 0.020003940910100937\t \n",
      "Topic: 0.010*\"govt\" + 0.008*\"nuclear\" + 0.008*\"plan\" + 0.007*\"labor\" + 0.007*\"urg\" + 0.007*\"hick\" + 0.006*\"howard\" + 0.006*\"senat\" + 0.006*\"iran\" + 0.005*\"group\"\n",
      "\n",
      "Score: 0.0200039055198431\t \n",
      "Topic: 0.008*\"solomon\" + 0.007*\"troop\" + 0.006*\"chase\" + 0.006*\"beazley\" + 0.006*\"news\" + 0.006*\"energi\" + 0.005*\"whale\" + 0.005*\"resum\" + 0.005*\"polic\" + 0.005*\"escap\"\n",
      "\n",
      "Score: 0.020003827288746834\t \n",
      "Topic: 0.008*\"bird\" + 0.007*\"polic\" + 0.006*\"plane\" + 0.005*\"charg\" + 0.005*\"refus\" + 0.005*\"pair\" + 0.005*\"suicid\" + 0.005*\"light\" + 0.005*\"qanta\" + 0.005*\"flight\"\n",
      "\n",
      "Score: 0.020003732293844223\t \n",
      "Topic: 0.030*\"closer\" + 0.006*\"climat\" + 0.006*\"final\" + 0.004*\"open\" + 0.004*\"comment\" + 0.004*\"hawk\" + 0.004*\"violenc\" + 0.004*\"croc\" + 0.004*\"socceroo\" + 0.004*\"plan\"\n"
     ]
    }
   ],
   "source": [
    "'''\n",
    "Check which topic our test document belongs to using the LDA TF-IDF model.\n",
    "'''\n",
    "for index, score in sorted(lda_model_tfidf[bow_corpus[document_num]], key=lambda tup: -1*tup[1]):\n",
    "    print(\"\\nScore: {}\\t \\nTopic: {}\".format(score, lda_model_tfidf.print_topic(index, 10)))"
   ]
  },
  {
   "cell_type": "code",
   "execution_count": 39,
   "metadata": {},
   "outputs": [
    {
     "name": "stdout",
     "output_type": "stream",
     "text": [
      "Score: 0.42000025510787964\t Topic: 0.024*\"open\" + 0.021*\"test\" + 0.018*\"world\" + 0.017*\"win\" + 0.014*\"lead\"\n",
      "Score: 0.23616380989551544\t Topic: 0.024*\"hospit\" + 0.022*\"labor\" + 0.019*\"defend\" + 0.019*\"elect\" + 0.016*\"protest\"\n",
      "Score: 0.20379015803337097\t Topic: 0.028*\"iraq\" + 0.018*\"talk\" + 0.016*\"australia\" + 0.015*\"troop\" + 0.012*\"storm\"\n",
      "Score: 0.020009027794003487\t Topic: 0.045*\"warn\" + 0.020*\"fight\" + 0.017*\"nuclear\" + 0.017*\"england\" + 0.016*\"year\"\n",
      "Score: 0.020008498802781105\t Topic: 0.041*\"plan\" + 0.034*\"council\" + 0.031*\"govt\" + 0.030*\"water\" + 0.018*\"urg\"\n",
      "Score: 0.020006872713565826\t Topic: 0.019*\"school\" + 0.018*\"drought\" + 0.018*\"farmer\" + 0.014*\"price\" + 0.014*\"fund\"\n",
      "Score: 0.020005330443382263\t Topic: 0.034*\"report\" + 0.030*\"help\" + 0.017*\"deal\" + 0.015*\"urg\" + 0.015*\"blaze\"\n",
      "Score: 0.020005330443382263\t Topic: 0.038*\"crash\" + 0.022*\"closer\" + 0.017*\"die\" + 0.016*\"road\" + 0.016*\"coast\"\n",
      "Score: 0.020005330443382263\t Topic: 0.073*\"polic\" + 0.031*\"charg\" + 0.027*\"court\" + 0.023*\"face\" + 0.020*\"kill\"\n",
      "Score: 0.020005330443382263\t Topic: 0.034*\"claim\" + 0.025*\"opposit\" + 0.021*\"deni\" + 0.019*\"say\" + 0.019*\"govt\"\n"
     ]
    }
   ],
   "source": [
    "unseen_document = \"My favorite sports activities are running and swimming.\"\n",
    "\n",
    "# Data preprocessing step for the unseen document\n",
    "bow_vector = dictionary.doc2bow(preprocess(unseen_document))\n",
    "\n",
    "for index, score in sorted(lda_model[bow_vector], key=lambda tup: -1*tup[1]):\n",
    "    print(\"Score: {}\\t Topic: {}\".format(score, lda_model.print_topic(index, 5)))"
   ]
  }
 ],
 "metadata": {
  "kernelspec": {
   "display_name": "Python 3",
   "language": "python",
   "name": "python3"
  },
  "language_info": {
   "codemirror_mode": {
    "name": "ipython",
    "version": 3
   },
   "file_extension": ".py",
   "mimetype": "text/x-python",
   "name": "python",
   "nbconvert_exporter": "python",
   "pygments_lexer": "ipython3",
   "version": "3.8.5"
  }
 },
 "nbformat": 4,
 "nbformat_minor": 4
}

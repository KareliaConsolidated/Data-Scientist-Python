{
 "cells": [
  {
   "cell_type": "markdown",
   "metadata": {},
   "source": [
    "# Assignment 01: Evaluate the GDP Dataset\n",
    "\n",
    "* * *"
   ]
  },
  {
   "cell_type": "markdown",
   "metadata": {},
   "source": [
    "#### 1: View and add the dataset"
   ]
  },
  {
   "cell_type": "code",
   "execution_count": 1,
   "metadata": {},
   "outputs": [],
   "source": [
    "#Import required library\n",
    "import numpy as np\n",
    "import pandas as pd"
   ]
  },
  {
   "cell_type": "code",
   "execution_count": 2,
   "metadata": {},
   "outputs": [],
   "source": [
    "# Manually add the dataset\n",
    "countries = np.array(['Algeria','Angola','Argentina','Australia','Austria','Bahamas','Bangladesh','Belarus','Belgium','Bhutan','Brazil','Bulgaria','Cambodia','Cameroon','Chile','China','Colombia','Cyprus','Denmark','El Salvador','Estonia','Ethiopia','Fiji','Finland','France','Georgia','Ghana','Grenada','Guinea','Haiti','Honduras','Hungary','India','Indonesia','Ireland','Italy','Japan','Kenya', 'South Korea','Liberia','Malaysia','Mexico', 'Morocco','Nepal','New Zealand','Norway','Pakistan', 'Peru','Qatar','Russia','Singapore','South Africa','Spain','Sweden','Switzerland','Thailand', 'United Arab Emirates','United Kingdom','United States','Uruguay','Venezuela','Vietnam','Zimbabwe'])\n",
    "gdp_per_capita = np.array([2255.225482,629.9553062,11601.63022,25306.82494,27266.40335,19466.99052,588.3691778,2890.345675,24733.62696,1445.760002,4803.398244,2618.876037,590.4521124,665.7982328,7122.938458,2639.54156,3362.4656,15378.16704,30860.12808,2579.115607,6525.541272,229.6769525,2242.689259,27570.4852,23016.84778,1334.646773,402.6953275,6047.200797,394.1156638,385.5793827,1414.072488,5745.981529,837.7464011,1206.991065,27715.52837,18937.24998,39578.07441,478.2194906,16684.21278,279.2204061,5345.213415,6288.25324,1908.304416,274.8728621,14646.42094,40034.85063,672.1547506,3359.517402,36152.66676,3054.727742,33529.83052,3825.093781,15428.32098,33630.24604,39170.41371,2699.123242,21058.43643,28272.40661,37691.02733,9581.05659,5671.912202,757.4009286,347.7456605])"
   ]
  },
  {
   "cell_type": "markdown",
   "metadata": {
    "collapsed": true
   },
   "source": [
    "#### 2: Find and print the name of the country with the highest GDP"
   ]
  },
  {
   "cell_type": "code",
   "execution_count": 3,
   "metadata": {},
   "outputs": [],
   "source": [
    "#Use the argmax() method to find the highest GDP\n",
    "max_gdp_per_capita = gdp_per_capita.argmax()"
   ]
  },
  {
   "cell_type": "code",
   "execution_count": 9,
   "metadata": {},
   "outputs": [
    {
     "data": {
      "text/plain": [
       "'Norway'"
      ]
     },
     "execution_count": 9,
     "metadata": {},
     "output_type": "execute_result"
    }
   ],
   "source": [
    "#Print the name of the country\n",
    "country_with_max_gdp_per_capita = countries[max_gdp_per_capita]\n",
    "country_with_max_gdp_per_capita"
   ]
  },
  {
   "cell_type": "markdown",
   "metadata": {},
   "source": [
    "#### 3: Find and print the name of the country with the lowest GDP"
   ]
  },
  {
   "cell_type": "code",
   "execution_count": 11,
   "metadata": {},
   "outputs": [],
   "source": [
    "#Use the argmin() method to find the lowest GDP\n",
    "min_gdp_per_capita = gdp_per_capita.argmin()"
   ]
  },
  {
   "cell_type": "code",
   "execution_count": 12,
   "metadata": {},
   "outputs": [
    {
     "data": {
      "text/plain": [
       "'Ethiopia'"
      ]
     },
     "execution_count": 12,
     "metadata": {},
     "output_type": "execute_result"
    }
   ],
   "source": [
    "#Print the name of the country\n",
    "country_with_min_gdp_per_capita = countries[min_gdp_per_capita]\n",
    "country_with_min_gdp_per_capita"
   ]
  },
  {
   "cell_type": "markdown",
   "metadata": {},
   "source": [
    "#### 4: Print out text ('evaluating country') and input value ('country name') iteratively"
   ]
  },
  {
   "cell_type": "code",
   "execution_count": 13,
   "metadata": {},
   "outputs": [
    {
     "name": "stdout",
     "output_type": "stream",
     "text": [
      "evaluating country Algeria\n",
      "evaluating country Angola\n",
      "evaluating country Argentina\n",
      "evaluating country Australia\n",
      "evaluating country Austria\n",
      "evaluating country Bahamas\n",
      "evaluating country Bangladesh\n",
      "evaluating country Belarus\n",
      "evaluating country Belgium\n",
      "evaluating country Bhutan\n",
      "evaluating country Brazil\n",
      "evaluating country Bulgaria\n",
      "evaluating country Cambodia\n",
      "evaluating country Cameroon\n",
      "evaluating country Chile\n",
      "evaluating country China\n",
      "evaluating country Colombia\n",
      "evaluating country Cyprus\n",
      "evaluating country Denmark\n",
      "evaluating country El Salvador\n",
      "evaluating country Estonia\n",
      "evaluating country Ethiopia\n",
      "evaluating country Fiji\n",
      "evaluating country Finland\n",
      "evaluating country France\n",
      "evaluating country Georgia\n",
      "evaluating country Ghana\n",
      "evaluating country Grenada\n",
      "evaluating country Guinea\n",
      "evaluating country Haiti\n",
      "evaluating country Honduras\n",
      "evaluating country Hungary\n",
      "evaluating country India\n",
      "evaluating country Indonesia\n",
      "evaluating country Ireland\n",
      "evaluating country Italy\n",
      "evaluating country Japan\n",
      "evaluating country Kenya\n",
      "evaluating country South Korea\n",
      "evaluating country Liberia\n",
      "evaluating country Malaysia\n",
      "evaluating country Mexico\n",
      "evaluating country Morocco\n",
      "evaluating country Nepal\n",
      "evaluating country New Zealand\n",
      "evaluating country Norway\n",
      "evaluating country Pakistan\n",
      "evaluating country Peru\n",
      "evaluating country Qatar\n",
      "evaluating country Russia\n",
      "evaluating country Singapore\n",
      "evaluating country South Africa\n",
      "evaluating country Spain\n",
      "evaluating country Sweden\n",
      "evaluating country Switzerland\n",
      "evaluating country Thailand\n",
      "evaluating country United Arab Emirates\n",
      "evaluating country United Kingdom\n",
      "evaluating country United States\n",
      "evaluating country Uruguay\n",
      "evaluating country Venezuela\n",
      "evaluating country Vietnam\n",
      "evaluating country Zimbabwe\n"
     ]
    }
   ],
   "source": [
    "#Use a for loop to print the required output\n",
    "for country in countries:\n",
    "    print(f'evaluating country {country}')"
   ]
  },
  {
   "cell_type": "markdown",
   "metadata": {},
   "source": [
    "#### 5: Print out the entire list of the countries with their GDPs"
   ]
  },
  {
   "cell_type": "code",
   "execution_count": 14,
   "metadata": {},
   "outputs": [
    {
     "name": "stdout",
     "output_type": "stream",
     "text": [
      "Country Algeria per capita is 2255.225482\n",
      "Country Angola per capita is 629.9553062\n",
      "Country Argentina per capita is 11601.63022\n",
      "Country Australia per capita is 25306.82494\n",
      "Country Austria per capita is 27266.40335\n",
      "Country Bahamas per capita is 19466.99052\n",
      "Country Bangladesh per capita is 588.3691778\n",
      "Country Belarus per capita is 2890.345675\n",
      "Country Belgium per capita is 24733.62696\n",
      "Country Bhutan per capita is 1445.760002\n",
      "Country Brazil per capita is 4803.398244\n",
      "Country Bulgaria per capita is 2618.876037\n",
      "Country Cambodia per capita is 590.4521124\n",
      "Country Cameroon per capita is 665.7982328\n",
      "Country Chile per capita is 7122.938458\n",
      "Country China per capita is 2639.54156\n",
      "Country Colombia per capita is 3362.4656\n",
      "Country Cyprus per capita is 15378.16704\n",
      "Country Denmark per capita is 30860.12808\n",
      "Country El Salvador per capita is 2579.115607\n",
      "Country Estonia per capita is 6525.541272\n",
      "Country Ethiopia per capita is 229.6769525\n",
      "Country Fiji per capita is 2242.689259\n",
      "Country Finland per capita is 27570.4852\n",
      "Country France per capita is 23016.84778\n",
      "Country Georgia per capita is 1334.646773\n",
      "Country Ghana per capita is 402.6953275\n",
      "Country Grenada per capita is 6047.200797\n",
      "Country Guinea per capita is 394.1156638\n",
      "Country Haiti per capita is 385.5793827\n",
      "Country Honduras per capita is 1414.072488\n",
      "Country Hungary per capita is 5745.981529\n",
      "Country India per capita is 837.7464011\n",
      "Country Indonesia per capita is 1206.991065\n",
      "Country Ireland per capita is 27715.52837\n",
      "Country Italy per capita is 18937.24998\n",
      "Country Japan per capita is 39578.07441\n",
      "Country Kenya per capita is 478.2194906\n",
      "Country South Korea per capita is 16684.21278\n",
      "Country Liberia per capita is 279.2204061\n",
      "Country Malaysia per capita is 5345.213415\n",
      "Country Mexico per capita is 6288.25324\n",
      "Country Morocco per capita is 1908.304416\n",
      "Country Nepal per capita is 274.8728621\n",
      "Country New Zealand per capita is 14646.42094\n",
      "Country Norway per capita is 40034.85063\n",
      "Country Pakistan per capita is 672.1547506\n",
      "Country Peru per capita is 3359.517402\n",
      "Country Qatar per capita is 36152.66676\n",
      "Country Russia per capita is 3054.727742\n",
      "Country Singapore per capita is 33529.83052\n",
      "Country South Africa per capita is 3825.093781\n",
      "Country Spain per capita is 15428.32098\n",
      "Country Sweden per capita is 33630.24604\n",
      "Country Switzerland per capita is 39170.41371\n",
      "Country Thailand per capita is 2699.123242\n",
      "Country United Arab Emirates per capita is 21058.43643\n",
      "Country United Kingdom per capita is 28272.40661\n",
      "Country United States per capita is 37691.02733\n",
      "Country Uruguay per capita is 9581.05659\n",
      "Country Venezuela per capita is 5671.912202\n",
      "Country Vietnam per capita is 757.4009286\n",
      "Country Zimbabwe per capita is 347.7456605\n"
     ]
    }
   ],
   "source": [
    "#Use a for loop to print the required list\n",
    "for i in range(len(countries)):\n",
    "    country = countries[i]\n",
    "    country_gdp_per_capita = gdp_per_capita[i]\n",
    "    print(f\"Country {country} per capita is {country_gdp_per_capita}\")"
   ]
  },
  {
   "cell_type": "markdown",
   "metadata": {},
   "source": [
    "#### 6: Print the following:\n",
    "1. Highest GPD value\n",
    "2. Lowest GDP value\n",
    "3. Mean GDP value\n",
    "4. Standardized GDP value\n",
    "5. Sum of all the GDPs"
   ]
  },
  {
   "cell_type": "code",
   "execution_count": 15,
   "metadata": {},
   "outputs": [
    {
     "name": "stdout",
     "output_type": "stream",
     "text": [
      "Highest GPD value : 40034.85063\n",
      "Lowest GDP value : 229.6769525\n",
      "Mean GDP value : 11289.409271639683\n",
      "Standardized GDP value : 12743.828910617945\n",
      "Sum of all the GDPs : 711232.7841133001\n"
     ]
    }
   ],
   "source": [
    "print(f\"Highest GPD value : {max(gdp_per_capita)}\")\n",
    "print(f\"Lowest GDP value : {min(gdp_per_capita)}\")\n",
    "print(f\"Mean GDP value : {np.mean(gdp_per_capita)}\")\n",
    "print(f\"Standardized GDP value : {np.std(gdp_per_capita)}\")\n",
    "print(f\"Sum of all the GDPs : {sum(gdp_per_capita)}\")"
   ]
  }
 ],
 "metadata": {
  "kernelspec": {
   "display_name": "Python 3",
   "language": "python",
   "name": "python3"
  },
  "language_info": {
   "codemirror_mode": {
    "name": "ipython",
    "version": 3
   },
   "file_extension": ".py",
   "mimetype": "text/x-python",
   "name": "python",
   "nbconvert_exporter": "python",
   "pygments_lexer": "ipython3",
   "version": "3.8.5"
  }
 },
 "nbformat": 4,
 "nbformat_minor": 1
}

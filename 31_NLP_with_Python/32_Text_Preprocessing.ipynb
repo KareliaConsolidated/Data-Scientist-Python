{
 "cells": [
  {
   "cell_type": "markdown",
   "metadata": {},
   "source": [
    "### Capturing Text Data"
   ]
  },
  {
   "cell_type": "code",
   "execution_count": 1,
   "metadata": {},
   "outputs": [
    {
     "name": "stdout",
     "output_type": "stream",
     "text": [
      "Hieroglyphic writing dates from c. 3000 BC, and is composed of hundreds of symbols. A hieroglyph can represent a word, a sound, or a silent determinative; and the same symbol can serve different purposes in different contexts. Hieroglyphs were a formal script, used on stone monuments and in tombs, that could be as detailed as individual works of art.\n",
      "\n"
     ]
    }
   ],
   "source": [
    "import os\n",
    "\n",
    "# Read in a plain Text File\n",
    "\n",
    "with open(os.path.join(\"Data\",\"hieroglyph.txt\"), \"r\") as f:\n",
    "    text = f.read()\n",
    "    print(text)"
   ]
  },
  {
   "cell_type": "markdown",
   "metadata": {},
   "source": [
    "### Tabular Data"
   ]
  },
  {
   "cell_type": "code",
   "execution_count": 2,
   "metadata": {},
   "outputs": [
    {
     "data": {
      "text/html": [
       "<div>\n",
       "<style scoped>\n",
       "    .dataframe tbody tr th:only-of-type {\n",
       "        vertical-align: middle;\n",
       "    }\n",
       "\n",
       "    .dataframe tbody tr th {\n",
       "        vertical-align: top;\n",
       "    }\n",
       "\n",
       "    .dataframe thead th {\n",
       "        text-align: right;\n",
       "    }\n",
       "</style>\n",
       "<table border=\"1\" class=\"dataframe\">\n",
       "  <thead>\n",
       "    <tr style=\"text-align: right;\">\n",
       "      <th></th>\n",
       "      <th>publisher</th>\n",
       "      <th>title</th>\n",
       "    </tr>\n",
       "  </thead>\n",
       "  <tbody>\n",
       "    <tr>\n",
       "      <th>0</th>\n",
       "      <td>Livemint</td>\n",
       "      <td>Fed's Charles Plosser sees high bar for change...</td>\n",
       "    </tr>\n",
       "    <tr>\n",
       "      <th>1</th>\n",
       "      <td>IFA Magazine</td>\n",
       "      <td>US open: Stocks fall after Fed official hints ...</td>\n",
       "    </tr>\n",
       "    <tr>\n",
       "      <th>2</th>\n",
       "      <td>IFA Magazine</td>\n",
       "      <td>Fed risks falling 'behind the curve', Charles ...</td>\n",
       "    </tr>\n",
       "    <tr>\n",
       "      <th>3</th>\n",
       "      <td>Moneynews</td>\n",
       "      <td>Fed's Plosser: Nasty Weather Has Curbed Job Gr...</td>\n",
       "    </tr>\n",
       "    <tr>\n",
       "      <th>4</th>\n",
       "      <td>NASDAQ</td>\n",
       "      <td>Plosser: Fed May Have to Accelerate Tapering Pace</td>\n",
       "    </tr>\n",
       "  </tbody>\n",
       "</table>\n",
       "</div>"
      ],
      "text/plain": [
       "      publisher                                              title\n",
       "0      Livemint  Fed's Charles Plosser sees high bar for change...\n",
       "1  IFA Magazine  US open: Stocks fall after Fed official hints ...\n",
       "2  IFA Magazine  Fed risks falling 'behind the curve', Charles ...\n",
       "3     Moneynews  Fed's Plosser: Nasty Weather Has Curbed Job Gr...\n",
       "4        NASDAQ  Plosser: Fed May Have to Accelerate Tapering Pace"
      ]
     },
     "execution_count": 2,
     "metadata": {},
     "output_type": "execute_result"
    }
   ],
   "source": [
    "import pandas as pd\n",
    "\n",
    "df = pd.read_csv(os.path.join(\"Data\", \"news.csv\"))\n",
    "df.head()[['publisher', 'title']]"
   ]
  },
  {
   "cell_type": "code",
   "execution_count": 3,
   "metadata": {},
   "outputs": [
    {
     "data": {
      "text/html": [
       "<div>\n",
       "<style scoped>\n",
       "    .dataframe tbody tr th:only-of-type {\n",
       "        vertical-align: middle;\n",
       "    }\n",
       "\n",
       "    .dataframe tbody tr th {\n",
       "        vertical-align: top;\n",
       "    }\n",
       "\n",
       "    .dataframe thead th {\n",
       "        text-align: right;\n",
       "    }\n",
       "</style>\n",
       "<table border=\"1\" class=\"dataframe\">\n",
       "  <thead>\n",
       "    <tr style=\"text-align: right;\">\n",
       "      <th></th>\n",
       "      <th>publisher</th>\n",
       "      <th>title</th>\n",
       "    </tr>\n",
       "  </thead>\n",
       "  <tbody>\n",
       "    <tr>\n",
       "      <th>0</th>\n",
       "      <td>Livemint</td>\n",
       "      <td>fed's charles plosser sees high bar for change...</td>\n",
       "    </tr>\n",
       "    <tr>\n",
       "      <th>1</th>\n",
       "      <td>IFA Magazine</td>\n",
       "      <td>us open: stocks fall after fed official hints ...</td>\n",
       "    </tr>\n",
       "    <tr>\n",
       "      <th>2</th>\n",
       "      <td>IFA Magazine</td>\n",
       "      <td>fed risks falling 'behind the curve', charles ...</td>\n",
       "    </tr>\n",
       "    <tr>\n",
       "      <th>3</th>\n",
       "      <td>Moneynews</td>\n",
       "      <td>fed's plosser: nasty weather has curbed job gr...</td>\n",
       "    </tr>\n",
       "    <tr>\n",
       "      <th>4</th>\n",
       "      <td>NASDAQ</td>\n",
       "      <td>plosser: fed may have to accelerate tapering pace</td>\n",
       "    </tr>\n",
       "  </tbody>\n",
       "</table>\n",
       "</div>"
      ],
      "text/plain": [
       "      publisher                                              title\n",
       "0      Livemint  fed's charles plosser sees high bar for change...\n",
       "1  IFA Magazine  us open: stocks fall after fed official hints ...\n",
       "2  IFA Magazine  fed risks falling 'behind the curve', charles ...\n",
       "3     Moneynews  fed's plosser: nasty weather has curbed job gr...\n",
       "4        NASDAQ  plosser: fed may have to accelerate tapering pace"
      ]
     },
     "execution_count": 3,
     "metadata": {},
     "output_type": "execute_result"
    }
   ],
   "source": [
    "# Convert text column to lowercase\n",
    "df['title'] = df['title'].str.lower()\n",
    "df.head()[['publisher', 'title']]"
   ]
  },
  {
   "cell_type": "markdown",
   "metadata": {},
   "source": [
    "### Online Resource"
   ]
  },
  {
   "cell_type": "code",
   "execution_count": 4,
   "metadata": {},
   "outputs": [
    {
     "name": "stdout",
     "output_type": "stream",
     "text": [
      "{\n",
      "    \"success\": {\n",
      "        \"total\": 1\n",
      "    },\n",
      "    \"contents\": {\n",
      "        \"quotes\": [\n",
      "            {\n",
      "                \"quote\": \"The human mind and body are truly extraordinary. They are the quintessence of excellence in motion. We talk, touch, see, hear, taste, smell, and feel. We dream, aspire, and become. All that we are is mind and body and spirit-that is our universe.\",\n",
      "                \"length\": \"253\",\n",
      "                \"author\": \"Lorii Myers\",\n",
      "                \"tags\": [\n",
      "                    \"human-body\",\n",
      "                    \"inspire\",\n",
      "                    \"life\",\n",
      "                    \"mind\"\n",
      "                ],\n",
      "                \"category\": \"inspire\",\n",
      "                \"language\": \"en\",\n",
      "                \"date\": \"2020-11-28\",\n",
      "                \"permalink\": \"https://theysaidso.com/quote/lorii-myers-the-human-mind-and-body-are-truly-extraordinary-they-are-the-quintes\",\n",
      "                \"id\": \"dZWOGcDFcNB_jy_XhjmnDweF\",\n",
      "                \"background\": \"https://theysaidso.com/img/qod/qod-inspire.jpg\",\n",
      "                \"title\": \"Inspiring Quote of the day\"\n",
      "            }\n",
      "        ]\n",
      "    },\n",
      "    \"baseurl\": \"https://theysaidso.com\",\n",
      "    \"copyright\": {\n",
      "        \"year\": 2022,\n",
      "        \"url\": \"https://theysaidso.com\"\n",
      "    }\n",
      "}\n"
     ]
    }
   ],
   "source": [
    "import requests\n",
    "import json\n",
    "\n",
    "# Fetch Data From a Rest API\n",
    "r = requests.get(\"https://quotes.rest/qod.json\")\n",
    "res = r.json()\n",
    "print(json.dumps(res, indent=4))"
   ]
  },
  {
   "cell_type": "code",
   "execution_count": 5,
   "metadata": {},
   "outputs": [
    {
     "name": "stdout",
     "output_type": "stream",
     "text": [
      "The human mind and body are truly extraordinary. They are the quintessence of excellence in motion. We talk, touch, see, hear, taste, smell, and feel. We dream, aspire, and become. All that we are is mind and body and spirit-that is our universe. \n",
      "-- Lorii Myers\n"
     ]
    }
   ],
   "source": [
    "# Extract relevant object and field\n",
    "q = res[\"contents\"][\"quotes\"][0]\n",
    "print(q[\"quote\"], \"\\n--\", q[\"author\"])"
   ]
  },
  {
   "cell_type": "markdown",
   "metadata": {},
   "source": [
    "### Cleaning"
   ]
  },
  {
   "cell_type": "code",
   "execution_count": 6,
   "metadata": {},
   "outputs": [
    {
     "name": "stdout",
     "output_type": "stream",
     "text": [
      "<html lang=\"en\" op=\"news\"><head><meta name=\"referrer\" content=\"origin\"><meta name=\"viewport\" content=\"width=device-width, initial-scale=1.0\"><link rel=\"stylesheet\" type=\"text/css\" href=\"news.css?RLwg8iqc2tR5TuQByAQO\">\n",
      "        <link rel=\"shortcut icon\" href=\"favicon.ico\">\n",
      "          <link rel=\"alternate\" type=\"application/rss+xml\" title=\"RSS\" href=\"rss\">\n",
      "        <title>Hacker News</title></head><body><center><table id=\"hnmain\" border=\"0\" cellpadding=\"0\" cellspacing=\"0\" width=\"85%\" bgcolor=\"#f6f6ef\">\n",
      "        <tr><td bgcolor=\"#ff6600\"><table border=\"0\" cellpadding=\"0\" cellspacing=\"0\" width=\"100%\" style=\"padding:2px\"><tr><td style=\"width:18px;padding-right:4px\"><a href=\"https://news.ycombinator.com\"><img src=\"y18.gif\" width=\"18\" height=\"18\" style=\"border:1px white solid;\"></a></td>\n",
      "                  <td style=\"line-height:12pt; height:10px;\"><span class=\"pagetop\"><b class=\"hnname\"><a href=\"news\">Hacker News</a></b>\n",
      "              <a href=\"newest\">new</a> | <a href=\"front\">past</a> | <a href=\"newcomments\">comments</a> | <a href=\"ask\">ask</a> | <a href=\"show\">show</a> | <a href=\"jobs\">jobs</a> | <a href=\"submit\">submit</a>            </span></td><td style=\"text-align:right;padding-right:4px;\"><span class=\"pagetop\">\n",
      "                              <a href=\"login?goto=news\">login</a>\n",
      "                          </span></td>\n",
      "              </tr></table></td></tr>\n",
      "<tr id=\"pagespace\" title=\"\" style=\"height:10px\"></tr><tr><td><table border=\"0\" cellpadding=\"0\" cellspacing=\"0\" class=\"itemlist\">\n",
      "              <tr class='athing' id='25235490'>\n",
      "      <td align=\"right\" valign=\"top\" class=\"title\"><span class=\"rank\">1.</span></td>      <td valign=\"top\" class=\"votelinks\"><center><a id='up_25235490' href='vote?id=25235490&amp;how=up&amp;goto=news'><div class='votearrow' title='upvote'></div></a></center></td><td class=\"title\"><a href=\"https://www.yahoo.com/lifestyle/tony-hsieh-zappos-luminary-revolutionized-045239863.html\" class=\"storylink\">Tony Hsieh has died</a><span class=\"sitebit comhead\"> (<a href=\"from?site=yahoo.com\"><span class=\"sitestr\">yahoo.com</span></a>)</span></td></tr><tr><td colspan=\"2\"></td><td class=\"subtext\">\n",
      "        <span class=\"score\" id=\"score_25235490\">782 points</span> by <a href=\"user?id=MrMcDowall\" class=\"hnuser\">MrMcDowall</a> <span class=\"age\"><a href=\"item?id=25235490\">10 hours ago</a></span> <span id=\"unv_25235490\"></span> | <a href=\"hide?id=25235490&amp;goto=news\">hide</a> | <a href=\"item?id=25235490\">178&nbsp;comments</a>              </td></tr>\n",
      "      <tr class=\"spacer\" style=\"height:5px\"></tr>\n",
      "                <tr class='athing' id='25238007'>\n",
      "      <td align=\"right\" valign=\"top\" class=\"title\"><span class=\"rank\">2.</span></td>      <td valign=\"top\" class=\"votelinks\"><center><a id='up_25238007' href='vote?id=25238007&amp;how=up&amp;goto=news'><div class='votearrow' title='upvote'></div></a></center></td><td class=\"title\"><a href=\"https://github.com/ZHKKKe/MODNet\" class=\"storylink\">MODNet: Is a Green Screen Necessary for Real-Time Human Matting?</a><span class=\"sitebit comhead\"> (<a href=\"from?site=github.com/zhkkke\"><span class=\"sitestr\">github.com/zhkkke</span></a>)</span></td></tr><tr><td colspan=\"2\"></td><td class=\"subtext\">\n",
      "        <span class=\"score\" id=\"score_25238007\">16 points</span> by <a href=\"user?id=homarp\" class=\"hnuser\">homarp</a> <span class=\"age\"><a href=\"item?id=25238007\">40 minutes ago</a></span> <span id=\"unv_25238007\"></span> | <a href=\"hide?id=25238007&amp;goto=news\">hide</a> | <a href=\"item?id=25238007\">4&nbsp;comments</a>              </td></tr>\n",
      "      <tr class=\"spacer\" style=\"height:5px\"></tr>\n",
      "                <tr class='athing' id='25237003'>\n",
      "      <td align=\"right\" valign=\"top\" class=\"title\"><span class=\"rank\">3.</span></td>      <td valign=\"top\" class=\"votelinks\"><center><a id='up_25237003' href='vote?id=25237003&amp;how=up&amp;goto=news'><div class='votearrow' title='upvote'></div></a></center></td><td class=\"title\"><a href=\"https://3dfabric.tsmc.com/english/dedicatedFoundry/technology/SoIC.htm\" class=\"storylink\">TSMC: SoIC</a><span class=\"sitebit comhead\"> (<a href=\"from?site=tsmc.com\"><span class=\"sitestr\">tsmc.com</span></a>)</span></td></tr><tr><td colspan=\"2\"></td><td class=\"subtext\">\n",
      "        <span class=\"score\" id=\"score_25237003\">59 points</span> by <a href=\"user?id=blopeur\" class=\"hnuser\">blopeur</a> <span class=\"age\"><a href=\"item?id=25237003\">4 hours ago</a></span> <span id=\"unv_25237003\"></span> | <a href=\"hide?id=25237003&amp;goto=news\">hide</a> | <a href=\"item?id=25237003\">10&nbsp;comments</a>              </td></tr>\n",
      "      <tr class=\"spacer\" style=\"height:5px\"></tr>\n",
      "                <tr class='athing' id='25237356'>\n",
      "      <td align=\"right\" valign=\"top\" class=\"title\"><span class=\"rank\">4.</span></td>      <td valign=\"top\" class=\"votelinks\"><center><a id='up_25237356' href='vote?id=25237356&amp;how=up&amp;goto=news'><div class='votearrow' title='upvote'></div></a></center></td><td class=\"title\"><a href=\"https://www.arameb.com/blog/2020/11/22/probability\" class=\"storylink\">Is Probability Real?</a><span class=\"sitebit comhead\"> (<a href=\"from?site=arameb.com\"><span class=\"sitestr\">arameb.com</span></a>)</span></td></tr><tr><td colspan=\"2\"></td><td class=\"subtext\">\n",
      "        <span class=\"score\" id=\"score_25237356\">77 points</span> by <a href=\"user?id=EbTech\" class=\"hnuser\">EbTech</a> <span class=\"age\"><a href=\"item?id=25237356\">2 hours ago</a></span> <span id=\"unv_25237356\"></span> | <a href=\"hide?id=25237356&amp;goto=news\">hide</a> | <a href=\"item?id=25237356\">52&nbsp;comments</a>              </td></tr>\n",
      "      <tr class=\"spacer\" style=\"height:5px\"></tr>\n",
      "                <tr class='athing' id='25236636'>\n",
      "      <td align=\"right\" valign=\"top\" class=\"title\"><span class=\"rank\">5.</span></td>      <td valign=\"top\" class=\"votelinks\"><center><a id='up_25236636' href='vote?id=25236636&amp;how=up&amp;goto=news'><div class='votearrow' title='upvote'></div></a></center></td><td class=\"title\"><a href=\"https://simonwillison.net/2020/Nov/28/datasette-ripgrep/\" class=\"storylink\">Datasette-ripgrep: a regular expression search engine for your source code</a><span class=\"sitebit comhead\"> (<a href=\"from?site=simonwillison.net\"><span class=\"sitestr\">simonwillison.net</span></a>)</span></td></tr><tr><td colspan=\"2\"></td><td class=\"subtext\">\n",
      "        <span class=\"score\" id=\"score_25236636\">60 points</span> by <a href=\"user?id=tosh\" class=\"hnuser\">tosh</a> <span class=\"age\"><a href=\"item?id=25236636\">5 hours ago</a></span> <span id=\"unv_25236636\"></span> | <a href=\"hide?id=25236636&amp;goto=news\">hide</a> | <a href=\"item?id=25236636\">35&nbsp;comments</a>              </td></tr>\n",
      "      <tr class=\"spacer\" style=\"height:5px\"></tr>\n",
      "                <tr class='athing' id='25236822'>\n",
      "      <td align=\"right\" valign=\"top\" class=\"title\"><span class=\"rank\">6.</span></td>      <td valign=\"top\" class=\"votelinks\"><center><a id='up_25236822' href='vote?id=25236822&amp;how=up&amp;goto=news'><div class='votearrow' title='upvote'></div></a></center></td><td class=\"title\"><a href=\"https://github.com/google/lisp-koans\" class=\"storylink\">Lisp Koans</a><span class=\"sitebit comhead\"> (<a href=\"from?site=github.com/google\"><span class=\"sitestr\">github.com/google</span></a>)</span></td></tr><tr><td colspan=\"2\"></td><td class=\"subtext\">\n",
      "        <span class=\"score\" id=\"score_25236822\">51 points</span> by <a href=\"user?id=phoe-krk\" class=\"hnuser\">phoe-krk</a> <span class=\"age\"><a href=\"item?id=25236822\">5 hours ago</a></span> <span id=\"unv_25236822\"></span> | <a href=\"hide?id=25236822&amp;goto=news\">hide</a> | <a href=\"item?id=25236822\">8&nbsp;comments</a>              </td></tr>\n",
      "      <tr class=\"spacer\" style=\"height:5px\"></tr>\n",
      "                <tr class='athing' id='25237683'>\n",
      "      <td align=\"right\" valign=\"top\" class=\"title\"><span class=\"rank\">7.</span></td>      <td valign=\"top\" class=\"votelinks\"><center><a id='up_25237683' href='vote?id=25237683&amp;how=up&amp;goto=news'><div class='votearrow' title='upvote'></div></a></center></td><td class=\"title\"><a href=\"https://www.thecut.com/2017/05/self-esteem-grit-do-they-really-help.html\" class=\"storylink\">How the Self-Esteem Craze Took Over America And why the hype was irresistible</a><span class=\"sitebit comhead\"> (<a href=\"from?site=thecut.com\"><span class=\"sitestr\">thecut.com</span></a>)</span></td></tr><tr><td colspan=\"2\"></td><td class=\"subtext\">\n",
      "        <span class=\"score\" id=\"score_25237683\">22 points</span> by <a href=\"user?id=riyadparvez\" class=\"hnuser\">riyadparvez</a> <span class=\"age\"><a href=\"item?id=25237683\">1 hour ago</a></span> <span id=\"unv_25237683\"></span> | <a href=\"hide?id=25237683&amp;goto=news\">hide</a> | <a href=\"item?id=25237683\">3&nbsp;comments</a>              </td></tr>\n",
      "      <tr class=\"spacer\" style=\"height:5px\"></tr>\n",
      "                <tr class='athing' id='25236057'>\n",
      "      <td align=\"right\" valign=\"top\" class=\"title\"><span class=\"rank\">8.</span></td>      <td valign=\"top\" class=\"votelinks\"><center><a id='up_25236057' href='vote?id=25236057&amp;how=up&amp;goto=news'><div class='votearrow' title='upvote'></div></a></center></td><td class=\"title\"><a href=\"https://aws.amazon.com/message/11201/\" class=\"storylink\">Summary of the Amazon Kinesis Event in the Northern Virginia (US-East-1) Region</a><span class=\"sitebit comhead\"> (<a href=\"from?site=amazon.com\"><span class=\"sitestr\">amazon.com</span></a>)</span></td></tr><tr><td colspan=\"2\"></td><td class=\"subtext\">\n",
      "        <span class=\"score\" id=\"score_25236057\">114 points</span> by <a href=\"user?id=codesparkle\" class=\"hnuser\">codesparkle</a> <span class=\"age\"><a href=\"item?id=25236057\">8 hours ago</a></span> <span id=\"unv_25236057\"></span> | <a href=\"hide?id=25236057&amp;goto=news\">hide</a> | <a href=\"item?id=25236057\">39&nbsp;comments</a>              </td></tr>\n",
      "      <tr class=\"spacer\" style=\"height:5px\"></tr>\n",
      "                <tr class='athing' id='25237454'>\n",
      "      <td align=\"right\" valign=\"top\" class=\"title\"><span class=\"rank\">9.</span></td>      <td valign=\"top\" class=\"votelinks\"><center><a id='up_25237454' href='vote?id=25237454&amp;how=up&amp;goto=news'><div class='votearrow' title='upvote'></div></a></center></td><td class=\"title\"><a href=\"https://datatracker.ietf.org/meeting/109/materials/slides-109-iccrg-the-great-internet-tcp-congestion-control-census-00\" class=\"storylink\">The great Internet TCP congestion control census</a><span class=\"sitebit comhead\"> (<a href=\"from?site=ietf.org\"><span class=\"sitestr\">ietf.org</span></a>)</span></td></tr><tr><td colspan=\"2\"></td><td class=\"subtext\">\n",
      "        <span class=\"score\" id=\"score_25237454\">12 points</span> by <a href=\"user?id=fanf2\" class=\"hnuser\">fanf2</a> <span class=\"age\"><a href=\"item?id=25237454\">2 hours ago</a></span> <span id=\"unv_25237454\"></span> | <a href=\"hide?id=25237454&amp;goto=news\">hide</a> | <a href=\"item?id=25237454\">1&nbsp;comment</a>              </td></tr>\n",
      "      <tr class=\"spacer\" style=\"height:5px\"></tr>\n",
      "                <tr class='athing' id='25237406'>\n",
      "      <td align=\"right\" valign=\"top\" class=\"title\"><span class=\"rank\">10.</span></td>      <td valign=\"top\" class=\"votelinks\"><center><a id='up_25237406' href='vote?id=25237406&amp;how=up&amp;goto=news'><div class='votearrow' title='upvote'></div></a></center></td><td class=\"title\"><a href=\"https://www.wsj.com/articles/most-americans-object-to-government-tracking-of-their-activities-through-cellphones-11606305601\" class=\"storylink\">Most Americans Object to Government Tracking Their Activities Through Cellphones</a><span class=\"sitebit comhead\"> (<a href=\"from?site=wsj.com\"><span class=\"sitestr\">wsj.com</span></a>)</span></td></tr><tr><td colspan=\"2\"></td><td class=\"subtext\">\n",
      "        <span class=\"score\" id=\"score_25237406\">59 points</span> by <a href=\"user?id=pelasaco\" class=\"hnuser\">pelasaco</a> <span class=\"age\"><a href=\"item?id=25237406\">2 hours ago</a></span> <span id=\"unv_25237406\"></span> | <a href=\"hide?id=25237406&amp;goto=news\">hide</a> | <a href=\"item?id=25237406\">39&nbsp;comments</a>              </td></tr>\n",
      "      <tr class=\"spacer\" style=\"height:5px\"></tr>\n",
      "                <tr class='athing' id='25234746'>\n",
      "      <td align=\"right\" valign=\"top\" class=\"title\"><span class=\"rank\">11.</span></td>      <td valign=\"top\" class=\"votelinks\"><center><a id='up_25234746' href='vote?id=25234746&amp;how=up&amp;goto=news'><div class='votearrow' title='upvote'></div></a></center></td><td class=\"title\"><a href=\"https://github.com/loadimpact/k6\" class=\"storylink\">K6: Like unit testing, for performance</a><span class=\"sitebit comhead\"> (<a href=\"from?site=github.com/loadimpact\"><span class=\"sitestr\">github.com/loadimpact</span></a>)</span></td></tr><tr><td colspan=\"2\"></td><td class=\"subtext\">\n",
      "        <span class=\"score\" id=\"score_25234746\">252 points</span> by <a href=\"user?id=feross\" class=\"hnuser\">feross</a> <span class=\"age\"><a href=\"item?id=25234746\">13 hours ago</a></span> <span id=\"unv_25234746\"></span> | <a href=\"hide?id=25234746&amp;goto=news\">hide</a> | <a href=\"item?id=25234746\">67&nbsp;comments</a>              </td></tr>\n",
      "      <tr class=\"spacer\" style=\"height:5px\"></tr>\n",
      "                <tr class='athing' id='25235853'>\n",
      "      <td align=\"right\" valign=\"top\" class=\"title\"><span class=\"rank\">12.</span></td>      <td valign=\"top\" class=\"votelinks\"><center><a id='up_25235853' href='vote?id=25235853&amp;how=up&amp;goto=news'><div class='votearrow' title='upvote'></div></a></center></td><td class=\"title\"><a href=\"https://blog.powerdns.com/2020/11/27/goodbye-dns-goodbye-powerdns/\" class=\"storylink\">Goodbye PowerDNS</a><span class=\"sitebit comhead\"> (<a href=\"from?site=powerdns.com\"><span class=\"sitestr\">powerdns.com</span></a>)</span></td></tr><tr><td colspan=\"2\"></td><td class=\"subtext\">\n",
      "        <span class=\"score\" id=\"score_25235853\">117 points</span> by <a href=\"user?id=jpswade\" class=\"hnuser\">jpswade</a> <span class=\"age\"><a href=\"item?id=25235853\">8 hours ago</a></span> <span id=\"unv_25235853\"></span> | <a href=\"hide?id=25235853&amp;goto=news\">hide</a> | <a href=\"item?id=25235853\">50&nbsp;comments</a>              </td></tr>\n",
      "      <tr class=\"spacer\" style=\"height:5px\"></tr>\n",
      "                <tr class='athing' id='25235450'>\n",
      "      <td align=\"right\" valign=\"top\" class=\"title\"><span class=\"rank\">13.</span></td>      <td valign=\"top\" class=\"votelinks\"><center><a id='up_25235450' href='vote?id=25235450&amp;how=up&amp;goto=news'><div class='votearrow' title='upvote'></div></a></center></td><td class=\"title\"><a href=\"https://github.com/susam/tucl\" class=\"storylink\">The Unix Command Language (1976)</a><span class=\"sitebit comhead\"> (<a href=\"from?site=github.com/susam\"><span class=\"sitestr\">github.com/susam</span></a>)</span></td></tr><tr><td colspan=\"2\"></td><td class=\"subtext\">\n",
      "        <span class=\"score\" id=\"score_25235450\">104 points</span> by <a href=\"user?id=susam\" class=\"hnuser\">susam</a> <span class=\"age\"><a href=\"item?id=25235450\">10 hours ago</a></span> <span id=\"unv_25235450\"></span> | <a href=\"hide?id=25235450&amp;goto=news\">hide</a> | <a href=\"item?id=25235450\">18&nbsp;comments</a>              </td></tr>\n",
      "      <tr class=\"spacer\" style=\"height:5px\"></tr>\n",
      "                <tr class='athing' id='25237552'>\n",
      "      <td align=\"right\" valign=\"top\" class=\"title\"><span class=\"rank\">14.</span></td>      <td valign=\"top\" class=\"votelinks\"><center><a id='up_25237552' href='vote?id=25237552&amp;how=up&amp;goto=news'><div class='votearrow' title='upvote'></div></a></center></td><td class=\"title\"><a href=\"https://www.nytimes.com/2020/11/27/technology/pushed-by-pandemic-amazon-goes-on-a-hiring-spree-without-equal.html\" class=\"storylink\">Amazon hires 427,000 people in 10 months</a><span class=\"sitebit comhead\"> (<a href=\"from?site=nytimes.com\"><span class=\"sitestr\">nytimes.com</span></a>)</span></td></tr><tr><td colspan=\"2\"></td><td class=\"subtext\">\n",
      "        <span class=\"score\" id=\"score_25237552\">88 points</span> by <a href=\"user?id=brian_herman\" class=\"hnuser\">brian_herman</a> <span class=\"age\"><a href=\"item?id=25237552\">1 hour ago</a></span> <span id=\"unv_25237552\"></span> | <a href=\"hide?id=25237552&amp;goto=news\">hide</a> | <a href=\"item?id=25237552\">101&nbsp;comments</a>              </td></tr>\n",
      "      <tr class=\"spacer\" style=\"height:5px\"></tr>\n",
      "                <tr class='athing' id='25232488'>\n",
      "      <td align=\"right\" valign=\"top\" class=\"title\"><span class=\"rank\">15.</span></td>      <td valign=\"top\" class=\"votelinks\"><center><a id='up_25232488' href='vote?id=25232488&amp;how=up&amp;goto=news'><div class='votearrow' title='upvote'></div></a></center></td><td class=\"title\"><a href=\"http://www.petertasker.asia/articles/mishima-in-the-twenty-first-century/\" class=\"storylink\">Mishima in the Twenty First Century</a><span class=\"sitebit comhead\"> (<a href=\"from?site=petertasker.asia\"><span class=\"sitestr\">petertasker.asia</span></a>)</span></td></tr><tr><td colspan=\"2\"></td><td class=\"subtext\">\n",
      "        <span class=\"score\" id=\"score_25232488\">51 points</span> by <a href=\"user?id=overwhelm\" class=\"hnuser\">overwhelm</a> <span class=\"age\"><a href=\"item?id=25232488\">8 hours ago</a></span> <span id=\"unv_25232488\"></span> | <a href=\"hide?id=25232488&amp;goto=news\">hide</a> | <a href=\"item?id=25232488\">13&nbsp;comments</a>              </td></tr>\n",
      "      <tr class=\"spacer\" style=\"height:5px\"></tr>\n",
      "                <tr class='athing' id='25232502'>\n",
      "      <td align=\"right\" valign=\"top\" class=\"title\"><span class=\"rank\">16.</span></td>      <td valign=\"top\" class=\"votelinks\"><center><a id='up_25232502' href='vote?id=25232502&amp;how=up&amp;goto=news'><div class='votearrow' title='upvote'></div></a></center></td><td class=\"title\"><a href=\"https://www.theguardian.com/news/2020/nov/26/life-on-the-inside-as-a-locked-in-patient-jake-haendel-leukoencephalopathy\" class=\"storylink\">Life on the inside as a ‘locked-in’ patient</a><span class=\"sitebit comhead\"> (<a href=\"from?site=theguardian.com\"><span class=\"sitestr\">theguardian.com</span></a>)</span></td></tr><tr><td colspan=\"2\"></td><td class=\"subtext\">\n",
      "        <span class=\"score\" id=\"score_25232502\">111 points</span> by <a href=\"user?id=collate\" class=\"hnuser\">collate</a> <span class=\"age\"><a href=\"item?id=25232502\">12 hours ago</a></span> <span id=\"unv_25232502\"></span> | <a href=\"hide?id=25232502&amp;goto=news\">hide</a> | <a href=\"item?id=25232502\">27&nbsp;comments</a>              </td></tr>\n",
      "      <tr class=\"spacer\" style=\"height:5px\"></tr>\n",
      "                <tr class='athing' id='25236959'>\n",
      "      <td align=\"right\" valign=\"top\" class=\"title\"><span class=\"rank\">17.</span></td>      <td valign=\"top\" class=\"votelinks\"><center><a id='up_25236959' href='vote?id=25236959&amp;how=up&amp;goto=news'><div class='votearrow' title='upvote'></div></a></center></td><td class=\"title\"><a href=\"http://nautil.us/issue/93/forerunners/a-supermassive-lens-on-the-constants-of-nature\" class=\"storylink\">A Supermassive Lens on the Constants of Nature</a><span class=\"sitebit comhead\"> (<a href=\"from?site=nautil.us\"><span class=\"sitestr\">nautil.us</span></a>)</span></td></tr><tr><td colspan=\"2\"></td><td class=\"subtext\">\n",
      "        <span class=\"score\" id=\"score_25236959\">9 points</span> by <a href=\"user?id=dnetesn\" class=\"hnuser\">dnetesn</a> <span class=\"age\"><a href=\"item?id=25236959\">4 hours ago</a></span> <span id=\"unv_25236959\"></span> | <a href=\"hide?id=25236959&amp;goto=news\">hide</a> | <a href=\"item?id=25236959\">discuss</a>              </td></tr>\n",
      "      <tr class=\"spacer\" style=\"height:5px\"></tr>\n",
      "                <tr class='athing' id='25230683'>\n",
      "      <td align=\"right\" valign=\"top\" class=\"title\"><span class=\"rank\">18.</span></td>      <td valign=\"top\" class=\"votelinks\"><center><a id='up_25230683' href='vote?id=25230683&amp;how=up&amp;goto=news'><div class='votearrow' title='upvote'></div></a></center></td><td class=\"title\"><a href=\"https://statmodeling.stat.columbia.edu/2020/11/25/a-new-hot-hand-paradox/\" class=\"storylink\">A new hot hand paradox</a><span class=\"sitebit comhead\"> (<a href=\"from?site=columbia.edu\"><span class=\"sitestr\">columbia.edu</span></a>)</span></td></tr><tr><td colspan=\"2\"></td><td class=\"subtext\">\n",
      "        <span class=\"score\" id=\"score_25230683\">15 points</span> by <a href=\"user?id=luu\" class=\"hnuser\">luu</a> <span class=\"age\"><a href=\"item?id=25230683\">4 hours ago</a></span> <span id=\"unv_25230683\"></span> | <a href=\"hide?id=25230683&amp;goto=news\">hide</a> | <a href=\"item?id=25230683\">1&nbsp;comment</a>              </td></tr>\n",
      "      <tr class=\"spacer\" style=\"height:5px\"></tr>\n",
      "                <tr class='athing' id='25231566'>\n",
      "      <td align=\"right\" valign=\"top\" class=\"title\"><span class=\"rank\">19.</span></td>      <td valign=\"top\" class=\"votelinks\"><center><a id='up_25231566' href='vote?id=25231566&amp;how=up&amp;goto=news'><div class='votearrow' title='upvote'></div></a></center></td><td class=\"title\"><a href=\"https://github.com/josephernest/nfreezer\" class=\"storylink\">Show HN: NFreezer – Encrypted-at-rest remote backup tool</a><span class=\"sitebit comhead\"> (<a href=\"from?site=github.com/josephernest\"><span class=\"sitestr\">github.com/josephernest</span></a>)</span></td></tr><tr><td colspan=\"2\"></td><td class=\"subtext\">\n",
      "        <span class=\"score\" id=\"score_25231566\">56 points</span> by <a href=\"user?id=josephernest\" class=\"hnuser\">josephernest</a> <span class=\"age\"><a href=\"item?id=25231566\">10 hours ago</a></span> <span id=\"unv_25231566\"></span> | <a href=\"hide?id=25231566&amp;goto=news\">hide</a> | <a href=\"item?id=25231566\">30&nbsp;comments</a>              </td></tr>\n",
      "      <tr class=\"spacer\" style=\"height:5px\"></tr>\n",
      "                <tr class='athing' id='25237791'>\n",
      "      <td align=\"right\" valign=\"top\" class=\"title\"><span class=\"rank\">20.</span></td>      <td valign=\"top\" class=\"votelinks\"><center><a id='up_25237791' href='vote?id=25237791&amp;how=up&amp;goto=news'><div class='votearrow' title='upvote'></div></a></center></td><td class=\"title\"><a href=\"https://www.youtube.com/watch?v=UpNS-IVsBew\" class=\"storylink\">Amiga 68000 Assembly Course #01 based on the book by Fabio Ciucci</a><span class=\"sitebit comhead\"> (<a href=\"from?site=youtube.com\"><span class=\"sitestr\">youtube.com</span></a>)</span></td></tr><tr><td colspan=\"2\"></td><td class=\"subtext\">\n",
      "        <span class=\"score\" id=\"score_25237791\">12 points</span> by <a href=\"user?id=doener\" class=\"hnuser\">doener</a> <span class=\"age\"><a href=\"item?id=25237791\">1 hour ago</a></span> <span id=\"unv_25237791\"></span> | <a href=\"hide?id=25237791&amp;goto=news\">hide</a> | <a href=\"item?id=25237791\">discuss</a>              </td></tr>\n",
      "      <tr class=\"spacer\" style=\"height:5px\"></tr>\n",
      "                <tr class='athing' id='25235867'>\n",
      "      <td align=\"right\" valign=\"top\" class=\"title\"><span class=\"rank\">21.</span></td>      <td></td><td class=\"title\"><a href=\"https://deepsource.io/jobs/director-marketing-us/\" class=\"storylink\" rel=\"nofollow\">DeepSource (YC W20) Is Looking for a Director of Marketing</a><span class=\"sitebit comhead\"> (<a href=\"from?site=deepsource.io\"><span class=\"sitestr\">deepsource.io</span></a>)</span></td></tr><tr><td colspan=\"2\"></td><td class=\"subtext\">\n",
      "        <span class=\"age\"><a href=\"item?id=25235867\">8 hours ago</a></span> | <a href=\"hide?id=25235867&amp;goto=news\">hide</a>      </td></tr>\n",
      "      <tr class=\"spacer\" style=\"height:5px\"></tr>\n",
      "                <tr class='athing' id='25235941'>\n",
      "      <td align=\"right\" valign=\"top\" class=\"title\"><span class=\"rank\">22.</span></td>      <td valign=\"top\" class=\"votelinks\"><center><a id='up_25235941' href='vote?id=25235941&amp;how=up&amp;goto=news'><div class='votearrow' title='upvote'></div></a></center></td><td class=\"title\"><a href=\"https://www.theregister.com/2020/11/27/aws_hires_rust_compiler_team/\" class=\"storylink\">AWS hires Rust compiler team co-lead Felix Klock</a><span class=\"sitebit comhead\"> (<a href=\"from?site=theregister.com\"><span class=\"sitestr\">theregister.com</span></a>)</span></td></tr><tr><td colspan=\"2\"></td><td class=\"subtext\">\n",
      "        <span class=\"score\" id=\"score_25235941\">163 points</span> by <a href=\"user?id=ducaale\" class=\"hnuser\">ducaale</a> <span class=\"age\"><a href=\"item?id=25235941\">8 hours ago</a></span> <span id=\"unv_25235941\"></span> | <a href=\"hide?id=25235941&amp;goto=news\">hide</a> | <a href=\"item?id=25235941\">107&nbsp;comments</a>              </td></tr>\n",
      "      <tr class=\"spacer\" style=\"height:5px\"></tr>\n",
      "                <tr class='athing' id='25227651'>\n",
      "      <td align=\"right\" valign=\"top\" class=\"title\"><span class=\"rank\">23.</span></td>      <td valign=\"top\" class=\"votelinks\"><center><a id='up_25227651' href='vote?id=25227651&amp;how=up&amp;goto=news'><div class='votearrow' title='upvote'></div></a></center></td><td class=\"title\"><a href=\"http://paulgraham.com/think.html\" class=\"storylink\">How to Think for Yourself</a><span class=\"sitebit comhead\"> (<a href=\"from?site=paulgraham.com\"><span class=\"sitestr\">paulgraham.com</span></a>)</span></td></tr><tr><td colspan=\"2\"></td><td class=\"subtext\">\n",
      "        <span class=\"score\" id=\"score_25227651\">967 points</span> by <a href=\"user?id=neilkakkar\" class=\"hnuser\">neilkakkar</a> <span class=\"age\"><a href=\"item?id=25227651\">1 day ago</a></span> <span id=\"unv_25227651\"></span> | <a href=\"hide?id=25227651&amp;goto=news\">hide</a> | <a href=\"item?id=25227651\">763&nbsp;comments</a>              </td></tr>\n",
      "      <tr class=\"spacer\" style=\"height:5px\"></tr>\n",
      "                <tr class='athing' id='25224648'>\n",
      "      <td align=\"right\" valign=\"top\" class=\"title\"><span class=\"rank\">24.</span></td>      <td valign=\"top\" class=\"votelinks\"><center><a id='up_25224648' href='vote?id=25224648&amp;how=up&amp;goto=news'><div class='votearrow' title='upvote'></div></a></center></td><td class=\"title\"><a href=\"https://en.wikipedia.org/wiki/Nipkow_disk\" class=\"storylink\">Nipkow Disk</a><span class=\"sitebit comhead\"> (<a href=\"from?site=wikipedia.org\"><span class=\"sitestr\">wikipedia.org</span></a>)</span></td></tr><tr><td colspan=\"2\"></td><td class=\"subtext\">\n",
      "        <span class=\"score\" id=\"score_25224648\">29 points</span> by <a href=\"user?id=benbreen\" class=\"hnuser\">benbreen</a> <span class=\"age\"><a href=\"item?id=25224648\">9 hours ago</a></span> <span id=\"unv_25224648\"></span> | <a href=\"hide?id=25224648&amp;goto=news\">hide</a> | <a href=\"item?id=25224648\">7&nbsp;comments</a>              </td></tr>\n",
      "      <tr class=\"spacer\" style=\"height:5px\"></tr>\n",
      "                <tr class='athing' id='25234594'>\n",
      "      <td align=\"right\" valign=\"top\" class=\"title\"><span class=\"rank\">25.</span></td>      <td valign=\"top\" class=\"votelinks\"><center><a id='up_25234594' href='vote?id=25234594&amp;how=up&amp;goto=news'><div class='votearrow' title='upvote'></div></a></center></td><td class=\"title\"><a href=\"http://fileformats.archiveteam.org/\" class=\"storylink\">Let's Solve the File Format Problem (2019)</a><span class=\"sitebit comhead\"> (<a href=\"from?site=archiveteam.org\"><span class=\"sitestr\">archiveteam.org</span></a>)</span></td></tr><tr><td colspan=\"2\"></td><td class=\"subtext\">\n",
      "        <span class=\"score\" id=\"score_25234594\">111 points</span> by <a href=\"user?id=pabs3\" class=\"hnuser\">pabs3</a> <span class=\"age\"><a href=\"item?id=25234594\">13 hours ago</a></span> <span id=\"unv_25234594\"></span> | <a href=\"hide?id=25234594&amp;goto=news\">hide</a> | <a href=\"item?id=25234594\">56&nbsp;comments</a>              </td></tr>\n",
      "      <tr class=\"spacer\" style=\"height:5px\"></tr>\n",
      "                <tr class='athing' id='25233136'>\n",
      "      <td align=\"right\" valign=\"top\" class=\"title\"><span class=\"rank\">26.</span></td>      <td valign=\"top\" class=\"votelinks\"><center><a id='up_25233136' href='vote?id=25233136&amp;how=up&amp;goto=news'><div class='votearrow' title='upvote'></div></a></center></td><td class=\"title\"><a href=\"https://revealjs.com/\" class=\"storylink\">Reveal.js: HTML presentation framework</a><span class=\"sitebit comhead\"> (<a href=\"from?site=revealjs.com\"><span class=\"sitestr\">revealjs.com</span></a>)</span></td></tr><tr><td colspan=\"2\"></td><td class=\"subtext\">\n",
      "        <span class=\"score\" id=\"score_25233136\">349 points</span> by <a href=\"user?id=lopespm\" class=\"hnuser\">lopespm</a> <span class=\"age\"><a href=\"item?id=25233136\">17 hours ago</a></span> <span id=\"unv_25233136\"></span> | <a href=\"hide?id=25233136&amp;goto=news\">hide</a> | <a href=\"item?id=25233136\">92&nbsp;comments</a>              </td></tr>\n",
      "      <tr class=\"spacer\" style=\"height:5px\"></tr>\n",
      "                <tr class='athing' id='25234144'>\n",
      "      <td align=\"right\" valign=\"top\" class=\"title\"><span class=\"rank\">27.</span></td>      <td valign=\"top\" class=\"votelinks\"><center><a id='up_25234144' href='vote?id=25234144&amp;how=up&amp;goto=news'><div class='votearrow' title='upvote'></div></a></center></td><td class=\"title\"><a href=\"https://reneweconomy.com.au/tasmania-declares-itself-100-per-cent-powered-by-renewable-electricity-25119/\" class=\"storylink\">Tasmania declares itself 100 per cent powered by renewable electricity</a><span class=\"sitebit comhead\"> (<a href=\"from?site=reneweconomy.com.au\"><span class=\"sitestr\">reneweconomy.com.au</span></a>)</span></td></tr><tr><td colspan=\"2\"></td><td class=\"subtext\">\n",
      "        <span class=\"score\" id=\"score_25234144\">193 points</span> by <a href=\"user?id=toomuchtodo\" class=\"hnuser\">toomuchtodo</a> <span class=\"age\"><a href=\"item?id=25234144\">14 hours ago</a></span> <span id=\"unv_25234144\"></span> | <a href=\"hide?id=25234144&amp;goto=news\">hide</a> | <a href=\"item?id=25234144\">99&nbsp;comments</a>              </td></tr>\n",
      "      <tr class=\"spacer\" style=\"height:5px\"></tr>\n",
      "                <tr class='athing' id='25233953'>\n",
      "      <td align=\"right\" valign=\"top\" class=\"title\"><span class=\"rank\">28.</span></td>      <td valign=\"top\" class=\"votelinks\"><center><a id='up_25233953' href='vote?id=25233953&amp;how=up&amp;goto=news'><div class='votearrow' title='upvote'></div></a></center></td><td class=\"title\"><a href=\"https://github.com/rtosholdings/riptable\" class=\"storylink\">RipTable – multi-threaded Python data analytics tools for numpy arrays/datasets</a><span class=\"sitebit comhead\"> (<a href=\"from?site=github.com/rtosholdings\"><span class=\"sitestr\">github.com/rtosholdings</span></a>)</span></td></tr><tr><td colspan=\"2\"></td><td class=\"subtext\">\n",
      "        <span class=\"score\" id=\"score_25233953\">64 points</span> by <a href=\"user?id=aldanor\" class=\"hnuser\">aldanor</a> <span class=\"age\"><a href=\"item?id=25233953\">15 hours ago</a></span> <span id=\"unv_25233953\"></span> | <a href=\"hide?id=25233953&amp;goto=news\">hide</a> | <a href=\"item?id=25233953\">5&nbsp;comments</a>              </td></tr>\n",
      "      <tr class=\"spacer\" style=\"height:5px\"></tr>\n",
      "                <tr class='athing' id='25236026'>\n",
      "      <td align=\"right\" valign=\"top\" class=\"title\"><span class=\"rank\">29.</span></td>      <td valign=\"top\" class=\"votelinks\"><center><a id='up_25236026' href='vote?id=25236026&amp;how=up&amp;goto=news'><div class='votearrow' title='upvote'></div></a></center></td><td class=\"title\"><a href=\"https://phys.org/news/2020-11-physicist-n95-type-respirators-cotton-candy.html\" class=\"storylink\">Physicist creates N95-type respirators using cotton candy machine</a><span class=\"sitebit comhead\"> (<a href=\"from?site=phys.org\"><span class=\"sitestr\">phys.org</span></a>)</span></td></tr><tr><td colspan=\"2\"></td><td class=\"subtext\">\n",
      "        <span class=\"score\" id=\"score_25236026\">80 points</span> by <a href=\"user?id=helsinkiandrew\" class=\"hnuser\">helsinkiandrew</a> <span class=\"age\"><a href=\"item?id=25236026\">8 hours ago</a></span> <span id=\"unv_25236026\"></span> | <a href=\"hide?id=25236026&amp;goto=news\">hide</a> | <a href=\"item?id=25236026\">20&nbsp;comments</a>              </td></tr>\n",
      "      <tr class=\"spacer\" style=\"height:5px\"></tr>\n",
      "                <tr class='athing' id='25236704'>\n",
      "      <td align=\"right\" valign=\"top\" class=\"title\"><span class=\"rank\">30.</span></td>      <td valign=\"top\" class=\"votelinks\"><center><a id='up_25236704' href='vote?id=25236704&amp;how=up&amp;goto=news'><div class='votearrow' title='upvote'></div></a></center></td><td class=\"title\"><a href=\"https://edition.cnn.com/travel/article/lufthansa-sleepers-row-lie-flat-economy-seat/index.html\" class=\"storylink\">Lufthansa trialing lie-flat Economy seat concept</a><span class=\"sitebit comhead\"> (<a href=\"from?site=cnn.com\"><span class=\"sitestr\">cnn.com</span></a>)</span></td></tr><tr><td colspan=\"2\"></td><td class=\"subtext\">\n",
      "        <span class=\"score\" id=\"score_25236704\">41 points</span> by <a href=\"user?id=Tomte\" class=\"hnuser\">Tomte</a> <span class=\"age\"><a href=\"item?id=25236704\">5 hours ago</a></span> <span id=\"unv_25236704\"></span> | <a href=\"hide?id=25236704&amp;goto=news\">hide</a> | <a href=\"item?id=25236704\">26&nbsp;comments</a>              </td></tr>\n",
      "      <tr class=\"spacer\" style=\"height:5px\"></tr>\n",
      "            <tr class=\"morespace\" style=\"height:10px\"></tr><tr><td colspan=\"2\"></td><td class=\"title\"><a href=\"news?p=2\" class=\"morelink\" rel=\"next\">More</a></td></tr>\n",
      "  </table>\n",
      "</td></tr>\n",
      "<tr><td><img src=\"s.gif\" height=\"10\" width=\"0\"><table width=\"100%\" cellspacing=\"0\" cellpadding=\"1\"><tr><td bgcolor=\"#ff6600\"></td></tr></table><br><center><span class=\"yclinks\"><a href=\"newsguidelines.html\">Guidelines</a>\n",
      "        | <a href=\"newsfaq.html\">FAQ</a>\n",
      "        | <a href=\"lists\">Lists</a>\n",
      "        | <a href=\"https://github.com/HackerNews/API\">API</a>\n",
      "        | <a href=\"security.html\">Security</a>\n",
      "        | <a href=\"http://www.ycombinator.com/legal/\">Legal</a>\n",
      "        | <a href=\"http://www.ycombinator.com/apply/\">Apply to YC</a>\n",
      "        | <a href=\"mailto:hn@ycombinator.com\">Contact</a></span><br><br><form method=\"get\" action=\"//hn.algolia.com/\">Search:\n",
      "          <input type=\"text\" name=\"q\" value=\"\" size=\"17\" autocorrect=\"off\" spellcheck=\"false\" autocapitalize=\"off\" autocomplete=\"false\"></form>\n",
      "            </center></td></tr>\n",
      "      </table></center></body><script type='text/javascript' src='hn.js?RLwg8iqc2tR5TuQByAQO'></script></html>\n",
      "\n"
     ]
    }
   ],
   "source": [
    "import requests\n",
    "\n",
    "r = requests.get('https://news.ycombinator.com')\n",
    "print(r.text)"
   ]
  },
  {
   "cell_type": "code",
   "execution_count": 7,
   "metadata": {
    "scrolled": true
   },
   "outputs": [
    {
     "name": "stdout",
     "output_type": "stream",
     "text": [
      "\n",
      "        \n",
      "          \n",
      "        Hacker News\n",
      "        \n",
      "                  Hacker News\n",
      "              new | past | comments | ask | show | jobs | submit            \n",
      "                              login\n",
      "                          \n",
      "              \n",
      "\n",
      "              \n",
      "      1.      Tony Hsieh has died (yahoo.com)\n",
      "        782 points by MrMcDowall 10 hours ago  | hide | 178&nbsp;comments              \n",
      "      \n",
      "                \n",
      "      2.      MODNet: Is a Green Screen Necessary for Real-Time Human Matting? (github.com/zhkkke)\n",
      "        16 points by homarp 40 minutes ago  | hide | 4&nbsp;comments              \n",
      "      \n",
      "                \n",
      "      3.      TSMC: SoIC (tsmc.com)\n",
      "        59 points by blopeur 4 hours ago  | hide | 10&nbsp;comments              \n",
      "      \n",
      "                \n",
      "      4.      Is Probability Real? (arameb.com)\n",
      "        77 points by EbTech 2 hours ago  | hide | 52&nbsp;comments              \n",
      "      \n",
      "                \n",
      "      5.      Datasette-ripgrep: a regular expression search engine for your source code (simonwillison.net)\n",
      "        60 points by tosh 5 hours ago  | hide | 35&nbsp;comments              \n",
      "      \n",
      "                \n",
      "      6.      Lisp Koans (github.com/google)\n",
      "        51 points by phoe-krk 5 hours ago  | hide | 8&nbsp;comments              \n",
      "      \n",
      "                \n",
      "      7.      How the Self-Esteem Craze Took Over America And why the hype was irresistible (thecut.com)\n",
      "        22 points by riyadparvez 1 hour ago  | hide | 3&nbsp;comments              \n",
      "      \n",
      "                \n",
      "      8.      Summary of the Amazon Kinesis Event in the Northern Virginia (US-East-1) Region (amazon.com)\n",
      "        114 points by codesparkle 8 hours ago  | hide | 39&nbsp;comments              \n",
      "      \n",
      "                \n",
      "      9.      The great Internet TCP congestion control census (ietf.org)\n",
      "        12 points by fanf2 2 hours ago  | hide | 1&nbsp;comment              \n",
      "      \n",
      "                \n",
      "      10.      Most Americans Object to Government Tracking Their Activities Through Cellphones (wsj.com)\n",
      "        59 points by pelasaco 2 hours ago  | hide | 39&nbsp;comments              \n",
      "      \n",
      "                \n",
      "      11.      K6: Like unit testing, for performance (github.com/loadimpact)\n",
      "        252 points by feross 13 hours ago  | hide | 67&nbsp;comments              \n",
      "      \n",
      "                \n",
      "      12.      Goodbye PowerDNS (powerdns.com)\n",
      "        117 points by jpswade 8 hours ago  | hide | 50&nbsp;comments              \n",
      "      \n",
      "                \n",
      "      13.      The Unix Command Language (1976) (github.com/susam)\n",
      "        104 points by susam 10 hours ago  | hide | 18&nbsp;comments              \n",
      "      \n",
      "                \n",
      "      14.      Amazon hires 427,000 people in 10 months (nytimes.com)\n",
      "        88 points by brian_herman 1 hour ago  | hide | 101&nbsp;comments              \n",
      "      \n",
      "                \n",
      "      15.      Mishima in the Twenty First Century (petertasker.asia)\n",
      "        51 points by overwhelm 8 hours ago  | hide | 13&nbsp;comments              \n",
      "      \n",
      "                \n",
      "      16.      Life on the inside as a ‘locked-in’ patient (theguardian.com)\n",
      "        111 points by collate 12 hours ago  | hide | 27&nbsp;comments              \n",
      "      \n",
      "                \n",
      "      17.      A Supermassive Lens on the Constants of Nature (nautil.us)\n",
      "        9 points by dnetesn 4 hours ago  | hide | discuss              \n",
      "      \n",
      "                \n",
      "      18.      A new hot hand paradox (columbia.edu)\n",
      "        15 points by luu 4 hours ago  | hide | 1&nbsp;comment              \n",
      "      \n",
      "                \n",
      "      19.      Show HN: NFreezer – Encrypted-at-rest remote backup tool (github.com/josephernest)\n",
      "        56 points by josephernest 10 hours ago  | hide | 30&nbsp;comments              \n",
      "      \n",
      "                \n",
      "      20.      Amiga 68000 Assembly Course #01 based on the book by Fabio Ciucci (youtube.com)\n",
      "        12 points by doener 1 hour ago  | hide | discuss              \n",
      "      \n",
      "                \n",
      "      21.      DeepSource (YC W20) Is Looking for a Director of Marketing (deepsource.io)\n",
      "        8 hours ago | hide      \n",
      "      \n",
      "                \n",
      "      22.      AWS hires Rust compiler team co-lead Felix Klock (theregister.com)\n",
      "        163 points by ducaale 8 hours ago  | hide | 107&nbsp;comments              \n",
      "      \n",
      "                \n",
      "      23.      How to Think for Yourself (paulgraham.com)\n",
      "        967 points by neilkakkar 1 day ago  | hide | 763&nbsp;comments              \n",
      "      \n",
      "                \n",
      "      24.      Nipkow Disk (wikipedia.org)\n",
      "        29 points by benbreen 9 hours ago  | hide | 7&nbsp;comments              \n",
      "      \n",
      "                \n",
      "      25.      Let's Solve the File Format Problem (2019) (archiveteam.org)\n",
      "        111 points by pabs3 13 hours ago  | hide | 56&nbsp;comments              \n",
      "      \n",
      "                \n",
      "      26.      Reveal.js: HTML presentation framework (revealjs.com)\n",
      "        349 points by lopespm 17 hours ago  | hide | 92&nbsp;comments              \n",
      "      \n",
      "                \n",
      "      27.      Tasmania declares itself 100 per cent powered by renewable electricity (reneweconomy.com.au)\n",
      "        193 points by toomuchtodo 14 hours ago  | hide | 99&nbsp;comments              \n",
      "      \n",
      "                \n",
      "      28.      RipTable – multi-threaded Python data analytics tools for numpy arrays/datasets (github.com/rtosholdings)\n",
      "        64 points by aldanor 15 hours ago  | hide | 5&nbsp;comments              \n",
      "      \n",
      "                \n",
      "      29.      Physicist creates N95-type respirators using cotton candy machine (phys.org)\n",
      "        80 points by helsinkiandrew 8 hours ago  | hide | 20&nbsp;comments              \n",
      "      \n",
      "                \n",
      "      30.      Lufthansa trialing lie-flat Economy seat concept (cnn.com)\n",
      "        41 points by Tomte 5 hours ago  | hide | 26&nbsp;comments              \n",
      "      \n",
      "            More\n",
      "  \n",
      "\n",
      "Guidelines\n",
      "        | FAQ\n",
      "        | Lists\n",
      "        | API\n",
      "        | Security\n",
      "        | Legal\n",
      "        | Apply to YC\n",
      "        | ContactSearch:\n",
      "          \n",
      "            \n",
      "      \n",
      "\n"
     ]
    }
   ],
   "source": [
    "import re\n",
    "\n",
    "pattern = re.compile(r'<.*?>')\n",
    "print(pattern.sub('', r.text))"
   ]
  },
  {
   "cell_type": "code",
   "execution_count": 8,
   "metadata": {},
   "outputs": [
    {
     "name": "stdout",
     "output_type": "stream",
     "text": [
      "\n",
      "        \n",
      "          \n",
      "        Hacker News\n",
      "        \n",
      "                  Hacker News\n",
      "              new | past | comments | ask | show | jobs | submit            \n",
      "                              login\n",
      "                          \n",
      "              \n",
      "\n",
      "              \n",
      "      1.      Tony Hsieh has died (yahoo.com)\n",
      "        782 points by MrMcDowall 10 hours ago  | hide | 178 comments              \n",
      "      \n",
      "                \n",
      "      2.      MODNet: Is a Green Screen Necessary for Real-Time Human Matting? (github.com/zhkkke)\n",
      "        16 points by homarp 40 minutes ago  | hide | 4 comments              \n",
      "      \n",
      "                \n",
      "      3.      TSMC: SoIC (tsmc.com)\n",
      "        59 points by blopeur 4 hours ago  | hide | 10 comments              \n",
      "      \n",
      "                \n",
      "      4.      Is Probability Real? (arameb.com)\n",
      "        77 points by EbTech 2 hours ago  | hide | 52 comments              \n",
      "      \n",
      "                \n",
      "      5.      Datasette-ripgrep: a regular expression search engine for your source code (simonwillison.net)\n",
      "        60 points by tosh 5 hours ago  | hide | 35 comments              \n",
      "      \n",
      "                \n",
      "      6.      Lisp Koans (github.com/google)\n",
      "        51 points by phoe-krk 5 hours ago  | hide | 8 comments              \n",
      "      \n",
      "                \n",
      "      7.      How the Self-Esteem Craze Took Over America And why the hype was irresistible (thecut.com)\n",
      "        22 points by riyadparvez 1 hour ago  | hide | 3 comments              \n",
      "      \n",
      "                \n",
      "      8.      Summary of the Amazon Kinesis Event in the Northern Virginia (US-East-1) Region (amazon.com)\n",
      "        114 points by codesparkle 8 hours ago  | hide | 39 comments              \n",
      "      \n",
      "                \n",
      "      9.      The great Internet TCP congestion control census (ietf.org)\n",
      "        12 points by fanf2 2 hours ago  | hide | 1 comment              \n",
      "      \n",
      "                \n",
      "      10.      Most Americans Object to Government Tracking Their Activities Through Cellphones (wsj.com)\n",
      "        59 points by pelasaco 2 hours ago  | hide | 39 comments              \n",
      "      \n",
      "                \n",
      "      11.      K6: Like unit testing, for performance (github.com/loadimpact)\n",
      "        252 points by feross 13 hours ago  | hide | 67 comments              \n",
      "      \n",
      "                \n",
      "      12.      Goodbye PowerDNS (powerdns.com)\n",
      "        117 points by jpswade 8 hours ago  | hide | 50 comments              \n",
      "      \n",
      "                \n",
      "      13.      The Unix Command Language (1976) (github.com/susam)\n",
      "        104 points by susam 10 hours ago  | hide | 18 comments              \n",
      "      \n",
      "                \n",
      "      14.      Amazon hires 427,000 people in 10 months (nytimes.com)\n",
      "        88 points by brian_herman 1 hour ago  | hide | 101 comments              \n",
      "      \n",
      "                \n",
      "      15.      Mishima in the Twenty First Century (petertasker.asia)\n",
      "        51 points by overwhelm 8 hours ago  | hide | 13 comments              \n",
      "      \n",
      "                \n",
      "      16.      Life on the inside as a ‘locked-in’ patient (theguardian.com)\n",
      "        111 points by collate 12 hours ago  | hide | 27 comments              \n",
      "      \n",
      "                \n",
      "      17.      A Supermassive Lens on the Constants of Nature (nautil.us)\n",
      "        9 points by dnetesn 4 hours ago  | hide | discuss              \n",
      "      \n",
      "                \n",
      "      18.      A new hot hand paradox (columbia.edu)\n",
      "        15 points by luu 4 hours ago  | hide | 1 comment              \n",
      "      \n",
      "                \n",
      "      19.      Show HN: NFreezer – Encrypted-at-rest remote backup tool (github.com/josephernest)\n",
      "        56 points by josephernest 10 hours ago  | hide | 30 comments              \n",
      "      \n",
      "                \n",
      "      20.      Amiga 68000 Assembly Course #01 based on the book by Fabio Ciucci (youtube.com)\n",
      "        12 points by doener 1 hour ago  | hide | discuss              \n",
      "      \n",
      "                \n",
      "      21.      DeepSource (YC W20) Is Looking for a Director of Marketing (deepsource.io)\n",
      "        8 hours ago | hide      \n",
      "      \n",
      "                \n",
      "      22.      AWS hires Rust compiler team co-lead Felix Klock (theregister.com)\n",
      "        163 points by ducaale 8 hours ago  | hide | 107 comments              \n",
      "      \n",
      "                \n",
      "      23.      How to Think for Yourself (paulgraham.com)\n",
      "        967 points by neilkakkar 1 day ago  | hide | 763 comments              \n",
      "      \n",
      "                \n",
      "      24.      Nipkow Disk (wikipedia.org)\n",
      "        29 points by benbreen 9 hours ago  | hide | 7 comments              \n",
      "      \n",
      "                \n",
      "      25.      Let's Solve the File Format Problem (2019) (archiveteam.org)\n",
      "        111 points by pabs3 13 hours ago  | hide | 56 comments              \n",
      "      \n",
      "                \n",
      "      26.      Reveal.js: HTML presentation framework (revealjs.com)\n",
      "        349 points by lopespm 17 hours ago  | hide | 92 comments              \n",
      "      \n",
      "                \n",
      "      27.      Tasmania declares itself 100 per cent powered by renewable electricity (reneweconomy.com.au)\n",
      "        193 points by toomuchtodo 14 hours ago  | hide | 99 comments              \n",
      "      \n",
      "                \n",
      "      28.      RipTable – multi-threaded Python data analytics tools for numpy arrays/datasets (github.com/rtosholdings)\n",
      "        64 points by aldanor 15 hours ago  | hide | 5 comments              \n",
      "      \n",
      "                \n",
      "      29.      Physicist creates N95-type respirators using cotton candy machine (phys.org)\n",
      "        80 points by helsinkiandrew 8 hours ago  | hide | 20 comments              \n",
      "      \n",
      "                \n",
      "      30.      Lufthansa trialing lie-flat Economy seat concept (cnn.com)\n",
      "        41 points by Tomte 5 hours ago  | hide | 26 comments              \n",
      "      \n",
      "            More\n",
      "  \n",
      "\n",
      "Guidelines\n",
      "        | FAQ\n",
      "        | Lists\n",
      "        | API\n",
      "        | Security\n",
      "        | Legal\n",
      "        | Apply to YC\n",
      "        | ContactSearch:\n",
      "          \n",
      "            \n",
      "      \n",
      "\n"
     ]
    }
   ],
   "source": [
    "from bs4 import BeautifulSoup\n",
    "\n",
    "soup = BeautifulSoup(r.text, \"html5lib\")\n",
    "print(soup.get_text())"
   ]
  },
  {
   "cell_type": "code",
   "execution_count": 9,
   "metadata": {},
   "outputs": [
    {
     "data": {
      "text/plain": [
       "<tr class=\"athing\" id=\"25235490\">\n",
       "      <td align=\"right\" class=\"title\" valign=\"top\"><span class=\"rank\">1.</span></td>      <td class=\"votelinks\" valign=\"top\"><center><a href=\"vote?id=25235490&amp;how=up&amp;goto=news\" id=\"up_25235490\"><div class=\"votearrow\" title=\"upvote\"></div></a></center></td><td class=\"title\"><a class=\"storylink\" href=\"https://www.yahoo.com/lifestyle/tony-hsieh-zappos-luminary-revolutionized-045239863.html\">Tony Hsieh has died</a><span class=\"sitebit comhead\"> (<a href=\"from?site=yahoo.com\"><span class=\"sitestr\">yahoo.com</span></a>)</span></td></tr>"
      ]
     },
     "execution_count": 9,
     "metadata": {},
     "output_type": "execute_result"
    }
   ],
   "source": [
    "# Find all articles\n",
    "summaries = soup.find_all(\"tr\", class_=\"athing\")\n",
    "summaries[0]"
   ]
  },
  {
   "cell_type": "code",
   "execution_count": 10,
   "metadata": {},
   "outputs": [
    {
     "data": {
      "text/plain": [
       "'Tony Hsieh has died'"
      ]
     },
     "execution_count": 10,
     "metadata": {},
     "output_type": "execute_result"
    }
   ],
   "source": [
    "summaries[0].find(\"a\", class_=\"storylink\").get_text().strip()"
   ]
  },
  {
   "cell_type": "code",
   "execution_count": 11,
   "metadata": {},
   "outputs": [
    {
     "name": "stdout",
     "output_type": "stream",
     "text": [
      "30 Article summaries found. Sample:\n",
      "Tony Hsieh has died\n"
     ]
    }
   ],
   "source": [
    "# Find all articles, extract titles\n",
    "articles = []\n",
    "summaries = soup.find_all(\"tr\", class_=\"athing\")\n",
    "for summary in summaries:\n",
    "    title = summary.find(\"a\", class_=\"storylink\").get_text().strip()\n",
    "    articles.append((title))\n",
    "    \n",
    "print(len(articles), \"Article summaries found. Sample:\")    \n",
    "print(articles[0])"
   ]
  },
  {
   "cell_type": "markdown",
   "metadata": {},
   "source": [
    "### Case Normalization"
   ]
  },
  {
   "cell_type": "code",
   "execution_count": 12,
   "metadata": {},
   "outputs": [
    {
     "name": "stdout",
     "output_type": "stream",
     "text": [
      "The first time you see The Second Renaissance it may look boring. Look at it at least twice and definitely watch part 2. It will change your view of the matrix. Are the human people the ones who started the war ? Is AI a bad thing ?\n"
     ]
    }
   ],
   "source": [
    "# Sample text\n",
    "text = \"The first time you see The Second Renaissance it may look boring. Look at it at least twice and definitely watch part 2. It will change your view of the matrix. Are the human people the ones who started the war ? Is AI a bad thing ?\"\n",
    "print(text)"
   ]
  },
  {
   "cell_type": "code",
   "execution_count": 13,
   "metadata": {},
   "outputs": [
    {
     "name": "stdout",
     "output_type": "stream",
     "text": [
      "the first time you see the second renaissance it may look boring. look at it at least twice and definitely watch part 2. it will change your view of the matrix. are the human people the ones who started the war ? is ai a bad thing ?\n"
     ]
    }
   ],
   "source": [
    "# Convert to lowercase\n",
    "text = text.lower() \n",
    "print(text)"
   ]
  },
  {
   "cell_type": "markdown",
   "metadata": {},
   "source": [
    "### Punctuation Removal"
   ]
  },
  {
   "cell_type": "code",
   "execution_count": 14,
   "metadata": {},
   "outputs": [
    {
     "name": "stdout",
     "output_type": "stream",
     "text": [
      "the first time you see the second renaissance it may look boring  look at it at least twice and definitely watch part 2  it will change your view of the matrix  are the human people the ones who started the war   is ai a bad thing  \n"
     ]
    }
   ],
   "source": [
    "# Way_01\n",
    "text = re.sub(r\"[^a-zA-Z0-9]\", \" \", text)\n",
    "print(text)"
   ]
  },
  {
   "cell_type": "code",
   "execution_count": 15,
   "metadata": {},
   "outputs": [
    {
     "name": "stdout",
     "output_type": "stream",
     "text": [
      "the first time you see the second renaissance it may look boring  look at it at least twice and definitely watch part 2  it will change your view of the matrix  are the human people the ones who started the war   is ai a bad thing  \n"
     ]
    }
   ],
   "source": [
    "# Way_02\n",
    "import string\n",
    "text = \"\".join([word for word in text if word not in string.punctuation])\n",
    "print(text)"
   ]
  },
  {
   "cell_type": "markdown",
   "metadata": {},
   "source": [
    "### Tokenization"
   ]
  },
  {
   "cell_type": "code",
   "execution_count": 16,
   "metadata": {},
   "outputs": [
    {
     "name": "stdout",
     "output_type": "stream",
     "text": [
      "['the', 'first', 'time', 'you', 'see', 'the', 'second', 'renaissance', 'it', 'may', 'look', 'boring', 'look', 'at', 'it', 'at', 'least', 'twice', 'and', 'definitely', 'watch', 'part', '2', 'it', 'will', 'change', 'your', 'view', 'of', 'the', 'matrix', 'are', 'the', 'human', 'people', 'the', 'ones', 'who', 'started', 'the', 'war', 'is', 'ai', 'a', 'bad', 'thing']\n"
     ]
    }
   ],
   "source": [
    "words = text.split()\n",
    "print(words)"
   ]
  },
  {
   "cell_type": "code",
   "execution_count": 17,
   "metadata": {},
   "outputs": [
    {
     "data": {
      "text/plain": [
       "'D:\\\\Project\\\\Data Scientist with Python\\\\31_NLP_with_Python'"
      ]
     },
     "execution_count": 17,
     "metadata": {},
     "output_type": "execute_result"
    }
   ],
   "source": [
    "os.getcwd()"
   ]
  },
  {
   "cell_type": "code",
   "execution_count": 18,
   "metadata": {},
   "outputs": [
    {
     "name": "stdout",
     "output_type": "stream",
     "text": [
      "Dr. Smith graduated from the University of Washington. He later started an analytics firm called Lux, which catered to enterprise customers.\n"
     ]
    }
   ],
   "source": [
    "# Another sample text\n",
    "text = \"Dr. Smith graduated from the University of Washington. He later started an analytics firm called Lux, which catered to enterprise customers.\"\n",
    "print(text)"
   ]
  },
  {
   "cell_type": "code",
   "execution_count": 19,
   "metadata": {},
   "outputs": [
    {
     "name": "stdout",
     "output_type": "stream",
     "text": [
      "['Dr.', 'Smith', 'graduated', 'from', 'the', 'University', 'of', 'Washington', '.', 'He', 'later', 'started', 'an', 'analytics', 'firm', 'called', 'Lux', ',', 'which', 'catered', 'to', 'enterprise', 'customers', '.']\n"
     ]
    }
   ],
   "source": [
    "from nltk.tokenize import word_tokenize\n",
    "\n",
    "words = word_tokenize(text)\n",
    "print(words)"
   ]
  },
  {
   "cell_type": "code",
   "execution_count": 20,
   "metadata": {},
   "outputs": [
    {
     "name": "stdout",
     "output_type": "stream",
     "text": [
      "['Dr. Smith graduated from the University of Washington.', 'He later started an analytics firm called Lux, which catered to enterprise customers.']\n"
     ]
    }
   ],
   "source": [
    "from nltk.tokenize import sent_tokenize\n",
    "\n",
    "sentences = sent_tokenize(text)\n",
    "print(sentences)"
   ]
  },
  {
   "cell_type": "code",
   "execution_count": 21,
   "metadata": {},
   "outputs": [
    {
     "name": "stdout",
     "output_type": "stream",
     "text": [
      "['i', 'me', 'my', 'myself', 'we', 'our', 'ours', 'ourselves', 'you', \"you're\", \"you've\", \"you'll\", \"you'd\", 'your', 'yours', 'yourself', 'yourselves', 'he', 'him', 'his', 'himself', 'she', \"she's\", 'her', 'hers', 'herself', 'it', \"it's\", 'its', 'itself', 'they', 'them', 'their', 'theirs', 'themselves', 'what', 'which', 'who', 'whom', 'this', 'that', \"that'll\", 'these', 'those', 'am', 'is', 'are', 'was', 'were', 'be', 'been', 'being', 'have', 'has', 'had', 'having', 'do', 'does', 'did', 'doing', 'a', 'an', 'the', 'and', 'but', 'if', 'or', 'because', 'as', 'until', 'while', 'of', 'at', 'by', 'for', 'with', 'about', 'against', 'between', 'into', 'through', 'during', 'before', 'after', 'above', 'below', 'to', 'from', 'up', 'down', 'in', 'out', 'on', 'off', 'over', 'under', 'again', 'further', 'then', 'once', 'here', 'there', 'when', 'where', 'why', 'how', 'all', 'any', 'both', 'each', 'few', 'more', 'most', 'other', 'some', 'such', 'no', 'nor', 'not', 'only', 'own', 'same', 'so', 'than', 'too', 'very', 's', 't', 'can', 'will', 'just', 'don', \"don't\", 'should', \"should've\", 'now', 'd', 'll', 'm', 'o', 're', 've', 'y', 'ain', 'aren', \"aren't\", 'couldn', \"couldn't\", 'didn', \"didn't\", 'doesn', \"doesn't\", 'hadn', \"hadn't\", 'hasn', \"hasn't\", 'haven', \"haven't\", 'isn', \"isn't\", 'ma', 'mightn', \"mightn't\", 'mustn', \"mustn't\", 'needn', \"needn't\", 'shan', \"shan't\", 'shouldn', \"shouldn't\", 'wasn', \"wasn't\", 'weren', \"weren't\", 'won', \"won't\", 'wouldn', \"wouldn't\"]\n"
     ]
    }
   ],
   "source": [
    "from nltk.corpus import stopwords\n",
    "print(stopwords.words('english'))"
   ]
  },
  {
   "cell_type": "code",
   "execution_count": 22,
   "metadata": {},
   "outputs": [
    {
     "name": "stdout",
     "output_type": "stream",
     "text": [
      "['the', 'first', 'time', 'you', 'see', 'the', 'second', 'renaissance', 'it', 'may', 'look', 'boring', 'look', 'at', 'it', 'at', 'least', 'twice', 'and', 'definitely', 'watch', 'part', '2', 'it', 'will', 'change', 'your', 'view', 'of', 'the', 'matrix', 'are', 'the', 'human', 'people', 'the', 'ones', 'who', 'started', 'the', 'war', 'is', 'ai', 'a', 'bad', 'thing']\n"
     ]
    }
   ],
   "source": [
    "# Reset text\n",
    "text = \"The first time you see The Second Renaissance it may look boring. Look at it at least twice and definitely watch part 2. It will change your view of the matrix. Are the human people the ones who started the war ? Is AI a bad thing ?\"\n",
    "\n",
    "# Normalize it\n",
    "text = re.sub(r'[^a-zA-Z0-9]', \" \",text.lower())\n",
    "\n",
    "# Tokenize it\n",
    "words = text.split()\n",
    "print(words)"
   ]
  },
  {
   "cell_type": "code",
   "execution_count": 23,
   "metadata": {},
   "outputs": [
    {
     "name": "stdout",
     "output_type": "stream",
     "text": [
      "['first', 'time', 'see', 'second', 'renaissance', 'may', 'look', 'boring', 'look', 'least', 'twice', 'definitely', 'watch', 'part', '2', 'change', 'view', 'matrix', 'human', 'people', 'ones', 'started', 'war', 'ai', 'bad', 'thing']\n"
     ]
    }
   ],
   "source": [
    "# Remove Stopwords\n",
    "words = [word for word in words if word not in stopwords.words('english')]\n",
    "print(words)"
   ]
  },
  {
   "cell_type": "markdown",
   "metadata": {},
   "source": [
    "### Sentence Parsing"
   ]
  },
  {
   "cell_type": "code",
   "execution_count": 24,
   "metadata": {},
   "outputs": [
    {
     "name": "stdout",
     "output_type": "stream",
     "text": [
      "(S\n",
      "  (NP I)\n",
      "  (VP\n",
      "    (VP (V shot) (NP (Det an) (N elephant)))\n",
      "    (PP (P in) (NP (Det my) (N pajamas)))))\n",
      "(S\n",
      "  (NP I)\n",
      "  (VP\n",
      "    (V shot)\n",
      "    (NP (Det an) (N elephant) (PP (P in) (NP (Det my) (N pajamas))))))\n"
     ]
    }
   ],
   "source": [
    "import nltk\n",
    "# Define a custom grammar\n",
    "my_grammar = nltk.CFG.fromstring(\"\"\"\n",
    "S -> NP VP\n",
    "PP -> P NP\n",
    "NP -> Det N | Det N PP | 'I'\n",
    "VP -> V NP | VP PP\n",
    "Det -> 'an' | 'my'\n",
    "N -> 'elephant' | 'pajamas'\n",
    "V -> 'shot'\n",
    "P -> 'in'\n",
    "\"\"\")\n",
    "parser = nltk.ChartParser(my_grammar)\n",
    "\n",
    "sentence = word_tokenize(\"I shot an elephant in my pajamas\")\n",
    "for tree in parser.parse(sentence):\n",
    "    print(tree)"
   ]
  },
  {
   "cell_type": "markdown",
   "metadata": {},
   "source": [
    "### Stemming"
   ]
  },
  {
   "cell_type": "code",
   "execution_count": 25,
   "metadata": {},
   "outputs": [
    {
     "name": "stdout",
     "output_type": "stream",
     "text": [
      "['first', 'time', 'see', 'second', 'renaiss', 'may', 'look', 'bore', 'look', 'least', 'twice', 'definit', 'watch', 'part', '2', 'chang', 'view', 'matrix', 'human', 'peopl', 'one', 'start', 'war', 'ai', 'bad', 'thing']\n"
     ]
    }
   ],
   "source": [
    "from nltk.stem.porter import PorterStemmer\n",
    "\n",
    "# Reduce words to their stems\n",
    "stemmed = [PorterStemmer().stem(w) for w in words]\n",
    "print(stemmed)"
   ]
  },
  {
   "cell_type": "code",
   "execution_count": 26,
   "metadata": {},
   "outputs": [
    {
     "name": "stdout",
     "output_type": "stream",
     "text": [
      "['first', 'time', 'see', 'second', 'renaissance', 'may', 'look', 'boring', 'look', 'least', 'twice', 'definitely', 'watch', 'part', '2', 'change', 'view', 'matrix', 'human', 'people', 'one', 'started', 'war', 'ai', 'bad', 'thing']\n"
     ]
    }
   ],
   "source": [
    "from nltk.stem.wordnet import WordNetLemmatizer\n",
    "\n",
    "# Reduce words to their root form\n",
    "lemmed = [WordNetLemmatizer().lemmatize(w) for w in words]\n",
    "print(lemmed)"
   ]
  },
  {
   "cell_type": "code",
   "execution_count": 27,
   "metadata": {
    "scrolled": true
   },
   "outputs": [
    {
     "name": "stdout",
     "output_type": "stream",
     "text": [
      "['first', 'time', 'see', 'second', 'renaissance', 'may', 'look', 'bore', 'look', 'least', 'twice', 'definitely', 'watch', 'part', '2', 'change', 'view', 'matrix', 'human', 'people', 'one', 'start', 'war', 'ai', 'bad', 'thing']\n"
     ]
    }
   ],
   "source": [
    "# Lemmatize verbs by specifying pos\n",
    "lemmed = [WordNetLemmatizer().lemmatize(w, pos='v') for w in lemmed]\n",
    "print(lemmed)"
   ]
  },
  {
   "cell_type": "code",
   "execution_count": 28,
   "metadata": {
    "scrolled": true
   },
   "outputs": [
    {
     "name": "stdout",
     "output_type": "stream",
     "text": [
      "[('Dr.', 'NNP'), ('Smith', 'NNP'), ('graduated', 'VBD'), ('from', 'IN'), ('the', 'DT'), ('University', 'NNP'), ('of', 'IN'), ('Washington', 'NNP'), ('.', '.'), ('He', 'PRP'), ('later', 'RB'), ('started', 'VBD'), ('an', 'DT'), ('analytics', 'NNS'), ('firm', 'NN'), ('called', 'VBD'), ('Lux', 'NNP'), (',', ','), ('which', 'WDT'), ('catered', 'VBD'), ('to', 'TO'), ('enterprise', 'VB'), ('customers', 'NNS'), ('.', '.')]\n"
     ]
    }
   ],
   "source": [
    "text = \"Dr. Smith graduated from the University of Washington. He later started an analytics firm called Lux, which catered to enterprise customers.\"\n",
    "from nltk.tokenize import word_tokenize\n",
    "from nltk import pos_tag\n",
    "\n",
    "sentence = word_tokenize(text)\n",
    "print(pos_tag(sentence))"
   ]
  },
  {
   "cell_type": "markdown",
   "metadata": {},
   "source": [
    "# Visualize Parse Trees\n",
    "sentence = word_tokenize(\"I shot an elephant in my pajamas\")\n",
    "for tree in parser.parse(sentence):\n",
    "    tree.draw()"
   ]
  },
  {
   "cell_type": "markdown",
   "metadata": {},
   "source": [
    "from nltk import pos_tag, ne_chunk\n",
    "from nltk.tokenize import word_tokenize\n",
    "\n",
    "ne_chunk(pos_tag(word_tokenize('Antonio joined Company in Mumbai')))"
   ]
  }
 ],
 "metadata": {
  "kernelspec": {
   "display_name": "Python 3",
   "language": "python",
   "name": "python3"
  },
  "language_info": {
   "codemirror_mode": {
    "name": "ipython",
    "version": 3
   },
   "file_extension": ".py",
   "mimetype": "text/x-python",
   "name": "python",
   "nbconvert_exporter": "python",
   "pygments_lexer": "ipython3",
   "version": "3.7.4"
  }
 },
 "nbformat": 4,
 "nbformat_minor": 4
}

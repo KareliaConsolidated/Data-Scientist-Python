{
 "cells": [
  {
   "cell_type": "code",
   "execution_count": 1,
   "metadata": {},
   "outputs": [],
   "source": [
    "# Load the cleaned training and test sets\n",
    "import gensim\n",
    "import numpy as np\n",
    "import pandas as pd\n",
    "\n",
    "X_train = pd.read_csv('Data/X_train.csv')\n",
    "X_test = pd.read_csv('Data/X_test.csv')\n",
    "y_train = pd.read_csv('Data/y_train.csv')\n",
    "y_test = pd.read_csv('Data/y_test.csv')"
   ]
  },
  {
   "cell_type": "code",
   "execution_count": 2,
   "metadata": {},
   "outputs": [],
   "source": [
    "# Train a basic word2vec model\n",
    "w2v_model = gensim.models.Word2Vec(X_train,\n",
    "                                   size=100,\n",
    "                                   window=5,\n",
    "                                   min_count=2)"
   ]
  },
  {
   "cell_type": "code",
   "execution_count": 3,
   "metadata": {},
   "outputs": [],
   "source": [
    "# Replace the words in each text message with the learned word vector\n",
    "words = set(w2v_model.wv.index2word)\n",
    "X_train_vect = np.array([np.array([w2v_model.wv[i] for i in ls if i in words])\n",
    "                         for ls in X_train['clean_text']])\n",
    "X_test_vect = np.array([np.array([w2v_model.wv[i] for i in ls if i in words])\n",
    "                         for ls in X_test['clean_text']])"
   ]
  },
  {
   "cell_type": "code",
   "execution_count": 4,
   "metadata": {},
   "outputs": [],
   "source": [
    "# Average the word vectors for each sentence (and assign a vector of zeros if the model\n",
    "# did not learn any of the words in the text message during training\n",
    "X_train_vect_avg = []\n",
    "for v in X_train_vect:\n",
    "    if v.size:\n",
    "        X_train_vect_avg.append(v.mean(axis=0))\n",
    "    else:\n",
    "        X_train_vect_avg.append(np.zeros(100, dtype=float))\n",
    "        \n",
    "X_test_vect_avg = []\n",
    "for v in X_test_vect:\n",
    "    if v.size:\n",
    "        X_test_vect_avg.append(v.mean(axis=0))\n",
    "    else:\n",
    "        X_test_vect_avg.append(np.zeros(100, dtype=float))"
   ]
  },
  {
   "cell_type": "code",
   "execution_count": 5,
   "metadata": {},
   "outputs": [
    {
     "data": {
      "text/plain": [
       "array([[-0.00468796, -0.0004517 , -0.00069944, ...,  0.00228134,\n",
       "        -0.00179504, -0.00219155],\n",
       "       [-0.00468796, -0.0004517 , -0.00069944, ...,  0.00228134,\n",
       "        -0.00179504, -0.00219155],\n",
       "       [ 0.00480211, -0.00120003,  0.00050045, ..., -0.00352571,\n",
       "         0.00084311, -0.00253902],\n",
       "       ...,\n",
       "       [ 0.00480211, -0.00120003,  0.00050045, ..., -0.00352571,\n",
       "         0.00084311, -0.00253902],\n",
       "       [ 0.00480211, -0.00120003,  0.00050045, ..., -0.00352571,\n",
       "         0.00084311, -0.00253902],\n",
       "       [-0.00468796, -0.0004517 , -0.00069944, ...,  0.00228134,\n",
       "        -0.00179504, -0.00219155]], dtype=float32)"
      ]
     },
     "execution_count": 5,
     "metadata": {},
     "output_type": "execute_result"
    }
   ],
   "source": [
    "# What does the unaveraged version look like?\n",
    "X_train_vect[0]"
   ]
  },
  {
   "cell_type": "code",
   "execution_count": 6,
   "metadata": {},
   "outputs": [
    {
     "data": {
      "text/plain": [
       "array([ 1.15207932e-03, -9.12214280e-04,  3.89521265e-05,  2.28104834e-03,\n",
       "        1.19190954e-03,  2.46128417e-03, -1.85332645e-03, -1.03678212e-04,\n",
       "       -4.83019650e-03,  4.56851150e-04, -9.48049419e-04,  3.21314624e-03,\n",
       "        5.34684004e-05, -3.63794109e-03, -3.54786543e-03, -2.08948506e-03,\n",
       "       -1.73820730e-03, -6.77558244e-04, -5.22984425e-04,  1.02996346e-04,\n",
       "       -2.23536248e-04,  2.81362096e-03,  6.09840499e-04,  2.62840558e-03,\n",
       "        9.01742198e-04,  4.16102877e-04, -2.20982730e-03, -1.93315977e-03,\n",
       "       -1.65634803e-04, -2.82433908e-03, -3.25160893e-03,  7.89637095e-04,\n",
       "       -2.32550222e-03,  3.34539916e-03, -1.57583982e-03,  3.28973331e-03,\n",
       "       -2.20187171e-03, -3.19124549e-03,  2.59583467e-03,  1.87047431e-03,\n",
       "        4.29407111e-04, -3.37519706e-03, -2.46620597e-03, -3.25367693e-03,\n",
       "        1.68316509e-03, -1.29128795e-03,  2.05495418e-03,  1.96213252e-03,\n",
       "        2.68641883e-03,  1.67605851e-03, -2.77697691e-03,  1.23540103e-03,\n",
       "        1.35625922e-03,  1.81956415e-03, -1.95373385e-03, -2.93870037e-03,\n",
       "       -3.08894785e-03,  1.96578214e-03, -3.08406213e-03,  2.08082632e-03,\n",
       "       -6.57082477e-04, -2.69571296e-03, -3.05976765e-03, -2.02202192e-03,\n",
       "       -1.93527294e-03, -1.51177496e-03, -2.04710499e-03,  1.41851068e-03,\n",
       "       -9.70337423e-04,  7.21096410e-04,  5.66169736e-04,  3.62780062e-03,\n",
       "       -2.30547437e-03, -3.33193899e-03,  3.16523225e-03,  1.41014543e-03,\n",
       "        5.99218416e-04,  2.42672954e-03,  5.11132239e-04, -1.45526850e-04,\n",
       "        7.02844351e-04,  2.25743250e-04, -1.39614078e-03,  2.46336509e-04,\n",
       "       -1.34784379e-03, -2.45949207e-03, -6.24199398e-04, -3.58879624e-04,\n",
       "        9.18369391e-04, -1.48258521e-03, -1.07630237e-03,  8.51140590e-04,\n",
       "       -3.13030579e-03, -5.86516981e-04, -2.59207562e-03,  1.40466529e-03,\n",
       "        3.83507810e-03, -1.29222765e-03, -1.71558262e-04, -2.40538013e-03],\n",
       "      dtype=float32)"
      ]
     },
     "execution_count": 6,
     "metadata": {},
     "output_type": "execute_result"
    }
   ],
   "source": [
    "# What does the averaged version look like?\n",
    "X_train_vect_avg[0]"
   ]
  },
  {
   "cell_type": "code",
   "execution_count": 7,
   "metadata": {},
   "outputs": [],
   "source": [
    "# Instantiate and fit a basic Random Forest model on top of the vectors\n",
    "from sklearn.ensemble import RandomForestClassifier\n",
    "\n",
    "rf = RandomForestClassifier()\n",
    "rf_model = rf.fit(X_train_vect_avg, y_train.values.ravel())"
   ]
  },
  {
   "cell_type": "code",
   "execution_count": 8,
   "metadata": {},
   "outputs": [],
   "source": [
    "# Use the trained model to make predictions on the test data\n",
    "y_pred = rf_model.predict(X_test_vect_avg)"
   ]
  },
  {
   "cell_type": "code",
   "execution_count": 9,
   "metadata": {},
   "outputs": [
    {
     "name": "stdout",
     "output_type": "stream",
     "text": [
      "Precision: 0.544 / Recall: 0.224 / Accuracy: 0.857\n"
     ]
    }
   ],
   "source": [
    "# Evaluate the predictions of the model on the holdout test set\n",
    "from sklearn.metrics import precision_score, recall_score\n",
    "\n",
    "precision = precision_score(y_test, y_pred)\n",
    "recall = recall_score(y_test, y_pred)\n",
    "print('Precision: {} / Recall: {} / Accuracy: {}'.format(\n",
    "    round(precision, 3), round(recall, 3), round((y_pred==y_test['label']).sum()/len(y_pred), 3)))"
   ]
  }
 ],
 "metadata": {
  "kernelspec": {
   "display_name": "Python 3",
   "language": "python",
   "name": "python3"
  },
  "language_info": {
   "codemirror_mode": {
    "name": "ipython",
    "version": 3
   },
   "file_extension": ".py",
   "mimetype": "text/x-python",
   "name": "python",
   "nbconvert_exporter": "python",
   "pygments_lexer": "ipython3",
   "version": "3.7.4"
  }
 },
 "nbformat": 4,
 "nbformat_minor": 4
}
